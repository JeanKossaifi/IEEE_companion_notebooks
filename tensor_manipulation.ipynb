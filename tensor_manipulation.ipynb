{
 "cells": [
  {
   "cell_type": "markdown",
   "metadata": {},
   "source": [
    "# Preliminaries: Tensor Manipulation\n",
    "\n",
    "This notebook walks through the basic mathematical tools for tensor methods, using **TensorLy**.\n",
    "\n",
    "**Included is examples of the following basic operations**\n",
    "\n",
    "1. [Creating a tensor](#Creating-a-tensor)\n",
    "2. [Setting the backend](#Setting-the-backend)\n",
    "3. [Basic tensor operations](#Basic-tensor-operations)\n",
    "    1. [Tensor unfolding/folding](#3.1-Unfolding)\n",
    "    2. [Kronecker Product](#3.3-Kronecker-Product)\n",
    "    3. [Khatri-Rao Product](#3.4-Khatri-Rao-Product)\n",
    "    4. [Hadamard Product](#3.5-Hadamard-Product)\n",
    "    5. [Outer Product](#3.6-Outer-Product)\n",
    "    6. [$n$-mode Product](#3.7-$n$-mode-Product)"
   ]
  },
  {
   "cell_type": "code",
   "execution_count": 1,
   "metadata": {},
   "outputs": [],
   "source": [
    "import numpy as np\n",
    "import tensorly as tl"
   ]
  },
  {
   "cell_type": "markdown",
   "metadata": {},
   "source": [
    "Tensors are higher order extensions of matrices that can encode multi-dimensional structure in the data\n",
    "\n",
    "In this tutorial we will show how to manipulate tensors as ndarrays, using [TensorLy](http://tensorly.github.io) with the NumPy backend to perform tensor operations."
   ]
  },
  {
   "cell_type": "markdown",
   "metadata": {},
   "source": [
    "# 1.Creating a tensor\n",
    "\n",
    "A tensor can be represented in multiple ways. The simplest is the slice representation through multiple matrices.\n",
    "\n",
    "Let's take for this example the tensor $\\mathcal{\\tilde X}$ defined by its frontal slices:\n",
    "\n",
    "$$\n",
    "   \\mathbf{X}_1 = \n",
    "   \\left[\n",
    "   \\begin{matrix}\n",
    "   0  & 2  & 4  & 6\\\\\n",
    "   8  & 10 & 12 & 14\\\\\n",
    "   16 & 18 & 20 & 22\n",
    "   \\end{matrix}\n",
    "   \\right]\n",
    "$$\n",
    "\n",
    "and \n",
    "\n",
    "$$\n",
    "   \\mathbf{X}_2 =\n",
    "   \\left[\n",
    "   \\begin{matrix}\n",
    "   1  & 3  & 5  & 7\\\\\n",
    "   9  & 11 & 13 & 15\\\\\n",
    "   17 & 19 & 21 & 23\n",
    "   \\end{matrix}\n",
    "   \\right]\n",
    "$$\n",
    "\n",
    "\n",
    "\n",
    "\n",
    "In Python, this array can be expressed as a numpy array::"
   ]
  },
  {
   "cell_type": "code",
   "execution_count": 2,
   "metadata": {},
   "outputs": [],
   "source": [
    "X = tl.tensor(np.arange(24).reshape((3, 4, 2)), dtype=tl.float32)"
   ]
  },
  {
   "cell_type": "code",
   "execution_count": 3,
   "metadata": {},
   "outputs": [
    {
     "data": {
      "text/plain": [
       "array([[[ 0.,  1.],\n",
       "        [ 2.,  3.],\n",
       "        [ 4.,  5.],\n",
       "        [ 6.,  7.]],\n",
       "\n",
       "       [[ 8.,  9.],\n",
       "        [10., 11.],\n",
       "        [12., 13.],\n",
       "        [14., 15.]],\n",
       "\n",
       "       [[16., 17.],\n",
       "        [18., 19.],\n",
       "        [20., 21.],\n",
       "        [22., 23.]]], dtype=float32)"
      ]
     },
     "execution_count": 3,
     "metadata": {},
     "output_type": "execute_result"
    }
   ],
   "source": [
    "X"
   ]
  },
  {
   "cell_type": "markdown",
   "metadata": {},
   "source": [
    "You can view the frontal slices by fixing the last axis:"
   ]
  },
  {
   "cell_type": "code",
   "execution_count": 4,
   "metadata": {},
   "outputs": [
    {
     "data": {
      "text/plain": [
       "array([[ 0.,  2.,  4.,  6.],\n",
       "       [ 8., 10., 12., 14.],\n",
       "       [16., 18., 20., 22.]], dtype=float32)"
      ]
     },
     "execution_count": 4,
     "metadata": {},
     "output_type": "execute_result"
    }
   ],
   "source": [
    "X[:, :, 0]"
   ]
  },
  {
   "cell_type": "code",
   "execution_count": 5,
   "metadata": {},
   "outputs": [
    {
     "data": {
      "text/plain": [
       "array([[ 1.,  3.,  5.,  7.],\n",
       "       [ 9., 11., 13., 15.],\n",
       "       [17., 19., 21., 23.]], dtype=float32)"
      ]
     },
     "execution_count": 5,
     "metadata": {},
     "output_type": "execute_result"
    }
   ],
   "source": [
    "X[:, :, 1]"
   ]
  },
  {
   "cell_type": "markdown",
   "metadata": {},
   "source": [
    "# 2.Setting the backend\n",
    "\n",
    "In TensorLy you can dynamically set the backend to use either NumPy or MXNet to represent tensors and perform the operations:"
   ]
  },
  {
   "cell_type": "code",
   "execution_count": 6,
   "metadata": {},
   "outputs": [
    {
     "data": {
      "text/plain": [
       "numpy.ndarray"
      ]
     },
     "execution_count": 6,
     "metadata": {},
     "output_type": "execute_result"
    }
   ],
   "source": [
    "type(X)"
   ]
  },
  {
   "cell_type": "markdown",
   "metadata": {},
   "source": [
    "By default, the backend is set to NumPy, here is how to change it to PyTorch:"
   ]
  },
  {
   "cell_type": "code",
   "execution_count": 7,
   "metadata": {},
   "outputs": [],
   "source": [
    "tl.set_backend('pytorch')"
   ]
  },
  {
   "cell_type": "code",
   "execution_count": 8,
   "metadata": {},
   "outputs": [
    {
     "data": {
      "text/plain": [
       "torch.Tensor"
      ]
     },
     "execution_count": 8,
     "metadata": {},
     "output_type": "execute_result"
    }
   ],
   "source": [
    "X = tl.tensor(np.arange(24).reshape((3, 4, 2)))\n",
    "type(X)"
   ]
  },
  {
   "cell_type": "markdown",
   "metadata": {},
   "source": [
    "Let's change it back to NumPy for the rest of the tutorial."
   ]
  },
  {
   "cell_type": "code",
   "execution_count": 9,
   "metadata": {},
   "outputs": [],
   "source": [
    "tl.set_backend('numpy')"
   ]
  },
  {
   "cell_type": "code",
   "execution_count": 10,
   "metadata": {},
   "outputs": [
    {
     "data": {
      "text/plain": [
       "numpy.ndarray"
      ]
     },
     "execution_count": 10,
     "metadata": {},
     "output_type": "execute_result"
    }
   ],
   "source": [
    "X = tl.tensor(np.arange(24).reshape((3, 4, 2)))\n",
    "type(X)"
   ]
  },
  {
   "cell_type": "markdown",
   "metadata": {},
   "source": [
    "# 3.Basic tensor operations"
   ]
  },
  {
   "cell_type": "markdown",
   "metadata": {},
   "source": [
    "## 3.1 Unfolding\n",
    "\n",
    "Also called **matrization**, **unfolding** a tensor is done by reading the element in a given way as to obtain a matrix instead of a tensor.\n",
    "\n",
    "It is done by stacking the **fibers** of the tensor into a matrix.\n",
    "\n",
    "### Definition\n",
    "For a tensor of size $(I_1, I_2, \\cdots, I_n)$, the k-mode unfolding of this tensor will be of size $(I_k, I_1 \\times \\cdots \\times I_{k-1} \\times I_{k+1} \\cdots \\times I_n)$.\n",
    "\n",
    "\n",
    "   Given a tensor $\\mathcal{\\tilde X} \\in \\mathbb{R}^{I_1 \\times I_2 \\times \\cdots \\times I_N}$, the\n",
    "   mode-n unfolding of $\\mathcal{\\tilde X}$ is a matrix $\\mathbf{X}_{[n]} \\in \\mathbb{R}^{I_n \\times I_M}$,\n",
    "   with $M = \\prod\\limits_{\\substack{k=1,\\\\k \\neq n}}^N I_k$ and is defined by\n",
    "   the mapping from element $(i_1, i_2, \\cdots, i_N)$ to $(i_n, j)$, with\n",
    "\n",
    "\n",
    "$$\n",
    "    j = \\sum\\limits_{\\substack{k=1,\\\\k \\neq n}}^N i_k \\times \\prod_{m=k+1}^N I_m.\n",
    "$$\n",
    "\n",
    "### Convention\n",
    "\n",
    "   Traditionally, mode-1 unfolding denotes the unfolding along the first dimension.\n",
    "   However, to be consistent with the Python indexing that always starts at zero,\n",
    "   in tensorly, unfolding also starts at zero!\n",
    "\n",
    "   Therefore ``unfold(tensor, 0)`` will unfold said tensor along its first dimension!\n",
    "   \n",
    "\n",
    "### Example\n",
    "\n",
    "For instance, using the $\\mathcal{\\tilde X}$ previously defined:\n",
    "$$\n",
    "   \\mathbf{X}_1 = \n",
    "   \\left[\n",
    "   \\begin{matrix}\n",
    "   0  & 2  & 4  & 6\\\\\n",
    "   8  & 10 & 12 & 14\\\\\n",
    "   16 & 18 & 20 & 22\n",
    "   \\end{matrix}\n",
    "   \\right]\n",
    "$$\n",
    "\n",
    "and \n",
    "\n",
    "$$\n",
    "   \\mathbf{X}_2 =\n",
    "   \\left[\n",
    "   \\begin{matrix}\n",
    "   1  & 3  & 5  & 7\\\\\n",
    "   9  & 11 & 13 & 15\\\\\n",
    "   17 & 19 & 21 & 23\n",
    "   \\end{matrix}\n",
    "   \\right]\n",
    "$$\n",
    "\n",
    "The 0-mode unfolding of $\\tilde X$:\n",
    "\n",
    "$$\n",
    "   \\mathbf{\\tilde X}_{[0]} =\n",
    "   \\left[ \\begin{matrix}\n",
    "      0 & 1 & 2 & 3 & 4 & 5 & 6 & 7\\\\\n",
    "      8 & 9 & 10 & 11 & 12 & 13 & 14 & 15\\\\\n",
    "      16 & 17 & 18 & 19 & 20 & 21 & 22 & 23\\\\\n",
    "   \\end{matrix} \\right]\n",
    "$$\n",
    "\n",
    "The 1-mode unfolding is given by:\n",
    "\n",
    "$$\n",
    "   \\mathbf{\\tilde X}_{[1]} =\n",
    "   \\left[ \\begin{matrix}\n",
    "      0 & 1 & 8 & 9 & 16 & 17\\\\\n",
    "      2 & 3 & 10 & 11 & 18 & 19\\\\\n",
    "      4 & 5 & 12 & 13 & 20 & 21\\\\\n",
    "      6 & 7 & 14 & 15 & 22 & 23\\\\\n",
    "   \\end{matrix} \\right]\n",
    "$$\n",
    "\n",
    "Finally, the 2-mode unfolding is the unfolding along the last axis:\n",
    "\n",
    "$$\n",
    "   \\mathbf{\\tilde X}_{[2]} = \\left[ \\begin{matrix}\n",
    "      0 & 2 & 4 & 6 & 8 & 10 & 12 & 14 & 16 & 18 & 20 & 22\\\\\n",
    "      1 & 3 & 5 & 7 & 9 & 11 & 13 & 15 & 17 & 19 & 21 & 23\\\\\n",
    "   \\end{matrix} \\right]\n",
    "$$\n",
    "\n",
    "### In TensorLy\n"
   ]
  },
  {
   "cell_type": "code",
   "execution_count": 11,
   "metadata": {},
   "outputs": [
    {
     "data": {
      "text/plain": [
       "array([[ 0,  1,  2,  3,  4,  5,  6,  7],\n",
       "       [ 8,  9, 10, 11, 12, 13, 14, 15],\n",
       "       [16, 17, 18, 19, 20, 21, 22, 23]])"
      ]
     },
     "execution_count": 11,
     "metadata": {},
     "output_type": "execute_result"
    }
   ],
   "source": [
    "tl.unfold(X, mode=0)"
   ]
  },
  {
   "cell_type": "code",
   "execution_count": 12,
   "metadata": {},
   "outputs": [
    {
     "data": {
      "text/plain": [
       "array([[ 0,  1,  8,  9, 16, 17],\n",
       "       [ 2,  3, 10, 11, 18, 19],\n",
       "       [ 4,  5, 12, 13, 20, 21],\n",
       "       [ 6,  7, 14, 15, 22, 23]])"
      ]
     },
     "execution_count": 12,
     "metadata": {},
     "output_type": "execute_result"
    }
   ],
   "source": [
    "tl.unfold(X, mode=1)"
   ]
  },
  {
   "cell_type": "code",
   "execution_count": 13,
   "metadata": {},
   "outputs": [
    {
     "data": {
      "text/plain": [
       "array([[ 0,  2,  4,  6,  8, 10, 12, 14, 16, 18, 20, 22],\n",
       "       [ 1,  3,  5,  7,  9, 11, 13, 15, 17, 19, 21, 23]])"
      ]
     },
     "execution_count": 13,
     "metadata": {},
     "output_type": "execute_result"
    }
   ],
   "source": [
    "tl.unfold(X, mode=2)"
   ]
  },
  {
   "cell_type": "markdown",
   "metadata": {},
   "source": [
    "## 3.2 Folding\n",
    "\n",
    "Folding is the inverse operation: you can **fold** an unfolded tensor back from matrix to full tensor using the ``tensorly.fold`` function."
   ]
  },
  {
   "cell_type": "code",
   "execution_count": 14,
   "metadata": {},
   "outputs": [
    {
     "data": {
      "text/plain": [
       "array([[[ 0,  1],\n",
       "        [ 2,  3],\n",
       "        [ 4,  5],\n",
       "        [ 6,  7]],\n",
       "\n",
       "       [[ 8,  9],\n",
       "        [10, 11],\n",
       "        [12, 13],\n",
       "        [14, 15]],\n",
       "\n",
       "       [[16, 17],\n",
       "        [18, 19],\n",
       "        [20, 21],\n",
       "        [22, 23]]])"
      ]
     },
     "execution_count": 14,
     "metadata": {},
     "output_type": "execute_result"
    }
   ],
   "source": [
    "unfolding = tl.unfold(X, 1)\n",
    "original_shape = X.shape\n",
    "tl.fold(unfolding, mode=1, shape=original_shape)"
   ]
  },
  {
   "cell_type": "markdown",
   "metadata": {},
   "source": [
    "## 3.3 Kronecker Product\n",
    "\n",
    "The *Kronecker Product* between two matrices $\\mathbf{A}\\in\\mathbb{R}^{I_0\\times I_1}$ and $\\mathbf{B}\\in\\mathbb{R}^{J_0\\times J_1}$ can be written in terms of block matrices as\n",
    "\n",
    "$$\n",
    "\\mathbf{A}\\otimes\\mathbf{B} = \\begin{bmatrix} a_{00} \\mathbf{B} & \\cdots & a_{0 I_1}\\mathbf{B} \\\\ \\vdots & \\ddots & \\vdots \\\\ a_{I_0 0} \\mathbf{B} & \\cdots & a_{I_0 I_1} \\mathbf{B} \\end{bmatrix}\n",
    "\\in \\mathbb{R}^{I_0 \\cdot J_0 \\times I_1 \\cdot J_1}.\n",
    "$$\n",
    "\n",
    "As a concrete example, we take two matrices\n",
    "\n",
    "$$\n",
    "\\mathbf{A} =\n",
    "\\begin{bmatrix}\n",
    "    1 & 2 \\\\ 3 & 4\n",
    "\\end{bmatrix},\n",
    "\\mathbf{B} =\n",
    "\\begin{bmatrix}\n",
    "    5 & 6 \\\\ 7 & 8\n",
    "\\end{bmatrix}.\n",
    "$$\n",
    "\n",
    "The *Kronecker Product* is then\n",
    "\n",
    "$$\n",
    "\\mathbf{A} \\otimes \\mathbf{B} = \n",
    "\\begin{bmatrix}\n",
    "    5 & 6 & 10 & 12 \\\\ 7 & 8 & 14 & 16 \\\\ 15 & 18 & 20 & 24 \\\\ 21 & 24 & 28 & 32\n",
    "\\end{bmatrix}.\n",
    "$$\n",
    "\n",
    "In **TensorLy**, we can use either the `tl.kron` method or the `tl.tenalg.kronecker` method as follows:"
   ]
  },
  {
   "cell_type": "code",
   "execution_count": 15,
   "metadata": {},
   "outputs": [
    {
     "name": "stdout",
     "output_type": "stream",
     "text": [
      "matrix A: \n",
      " [[1 2]\n",
      " [3 4]]\n",
      "matrix B: \n",
      " [[5 6]\n",
      " [7 8]]\n"
     ]
    },
    {
     "data": {
      "text/plain": [
       "array([[ 5,  6, 10, 12],\n",
       "       [ 7,  8, 14, 16],\n",
       "       [15, 18, 20, 24],\n",
       "       [21, 24, 28, 32]])"
      ]
     },
     "execution_count": 15,
     "metadata": {},
     "output_type": "execute_result"
    }
   ],
   "source": [
    "A = tl.tensor(np.arange(1, 5).reshape((2, 2)))\n",
    "B = tl.tensor(np.arange(5, 9).reshape((2, 2)))\n",
    "\n",
    "print('matrix A: \\n', A)\n",
    "print('matrix B: \\n', B)\n",
    "\n",
    "tl.kron(A, B)"
   ]
  },
  {
   "cell_type": "markdown",
   "metadata": {},
   "source": [
    "## 3.4 Khatri-Rao Product\n",
    "\n",
    "The *Khatri-Rao Product* between two matrices $\\mathbf{A}\\in\\mathbb{R}^{I\\times R}$ and $\\mathbf{B}\\in\\mathbb{R}^{J\\times R}$ is defined as $\\mathbf{A}\\odot\\mathbf{B}\\in\\mathbb{R}^{I\\cdot J\\times R}$ and can written in terms of the *Kronecker Product* as\n",
    "\n",
    "$$\n",
    "\\mathbf{A} \\odot \\mathbf{B} =\n",
    "\\begin{bmatrix}\n",
    "  \\mathbf{A}_{:, 0} \\otimes \\mathbf{B}_{:, 0},&\n",
    "  \\mathbf{A}_{:, 1} \\otimes \\mathbf{B}_{:, 1},&\n",
    "  \\cdots, &\n",
    "  \\mathbf{A}_{:, R-1} \\otimes \\mathbf{B}_{:, R-1}\n",
    "\\end{bmatrix}.\n",
    "$$\n",
    "\n",
    "Taking the same definitions for the matrices $\\mathbf{A}$ and $\\mathbf{B}$ above, the *Khatri-Rao product* is\n",
    "\n",
    "$$\n",
    "\\mathbf{A} \\odot \\mathbf{B} =\n",
    "\\begin{bmatrix}\n",
    "    5 & 12 \\\\\n",
    "    7 & 16 \\\\\n",
    "    15 & 24 \\\\\n",
    "    21 & 32\n",
    "\\end{bmatrix}.\n",
    "$$\n",
    "\n",
    "In **TensorLy**, we can use the `tl.kr` method to compute this, which takes a list of matrices as its input"
   ]
  },
  {
   "cell_type": "code",
   "execution_count": 16,
   "metadata": {},
   "outputs": [
    {
     "name": "stdout",
     "output_type": "stream",
     "text": [
      "A khatri-rao B:\n"
     ]
    },
    {
     "data": {
      "text/plain": [
       "array([[ 5, 12],\n",
       "       [ 7, 16],\n",
       "       [15, 24],\n",
       "       [21, 32]])"
      ]
     },
     "execution_count": 16,
     "metadata": {},
     "output_type": "execute_result"
    }
   ],
   "source": [
    "print('A khatri-rao B:')\n",
    "tl.kr([A, B])"
   ]
  },
  {
   "cell_type": "markdown",
   "metadata": {},
   "source": [
    "## 3.5 Hadamard Product \n",
    "\n",
    "The Hadamard product of $\\mathbf{A}, \\mathbf{B} \\in \\mathbb{R}^{I \\times N}$ is symbolized as $\\mathbf{A} * \\mathbf{B}$ and is equal to ${a}_{(i, j)} {b}_{(i, j)}$ for the $(i, j)$ element.\n",
    "\n",
    "$$\n",
    "\\mathbf{A} * \\mathbf{B} =\n",
    "\\begin{bmatrix}\n",
    "    5 & 12 \\\\\n",
    "    21 & 32\n",
    "\\end{bmatrix}.\n",
    "$$\n",
    "\n",
    "In **TensorLy** we can compute this straight-forwardly in a backend-agnostic manner as"
   ]
  },
  {
   "cell_type": "code",
   "execution_count": 17,
   "metadata": {},
   "outputs": [
    {
     "name": "stdout",
     "output_type": "stream",
     "text": [
      "A hadamard B:\n"
     ]
    },
    {
     "data": {
      "text/plain": [
       "array([[ 5, 12],\n",
       "       [21, 32]])"
      ]
     },
     "execution_count": 17,
     "metadata": {},
     "output_type": "execute_result"
    }
   ],
   "source": [
    "print('A hadamard B:')\n",
    "A * B"
   ]
  },
  {
   "cell_type": "markdown",
   "metadata": {},
   "source": [
    "## 3.6 Outer Product \n",
    "\n",
    "$\\circ$ denotes  the vector outer product. Given a set of $N$ vectors $\\{ \\mathbf {x}^{(n)} \\in \\mathbb{R}^{I_n} \\}_{n=0}^{N-1}$ their outer product is denoted as\n",
    "\n",
    "$$ \\mathcal{\\tilde X} = \\mathbf{x}^{(0)} \\circ \\mathbf{x}^{(1)} \\circ \\cdots \\circ \\mathbf{x}^{(N-1)}   \\doteq  \\bigcirc_{n =0}^{N-1} \\mathbf{x}^{(n)} \\in \\mathbb{R}^{I_0 \\times I_1 \\times \\cdots \\times I_{N-1}} $$\n",
    "\n",
    "and defines a rank-one $N$th-order tensor.\n",
    "\n",
    "Concretely, given three vectors $\\mathbf{x}^{(1)},\\mathbf{x}^{(2)},\\mathbf{x}^{(3)}\\in\\mathbb{R}^2$ we can compute their outer product by first computing the kronecker product and then reshaping into a tensor as follows"
   ]
  },
  {
   "cell_type": "code",
   "execution_count": 18,
   "metadata": {},
   "outputs": [
    {
     "name": "stdout",
     "output_type": "stream",
     "text": [
      "[[[15 18]\n",
      "  [20 24]]\n",
      "\n",
      " [[30 36]\n",
      "  [40 48]]]\n"
     ]
    }
   ],
   "source": [
    "x1 = tl.tensor(np.arange(1, 3).reshape((2)))\n",
    "x2 = tl.tensor(np.arange(3, 5).reshape((2)))\n",
    "x3 = tl.tensor(np.arange(5, 7).reshape((2)))\n",
    "\n",
    "print(tl.tenalg.kronecker([x1, x2, x3]).reshape(2, 2, 2))"
   ]
  },
  {
   "cell_type": "markdown",
   "metadata": {},
   "source": [
    "## 3.7 $n$-mode Product\n",
    "\n",
    "Also known as **tensor contraction**. This is a natural generalization of matrix-vector and matrix-matrix product. When multiplying a tensor by a matrix or a vector, we now have to specify the **mode** $n$ along which to take the product.\n",
    "### Tensor times matrix\n",
    "\n",
    "In that case we are doing an operation analogous to a matrix multiplication on the $n$-th mode. Given a tensor $\\mathcal{\\tilde X}$ of size $(I_1, I_2, \\cdots, I_N)$, and a matrix $\\mathbf{M}$ of size $(D, I_n)$, the $n$-mode product of $\\mathcal{\\tilde X}$ by $\\mathbf{M}$ is written $\\mathcal{\\tilde X} \\times_n \\mathbf{M}$ and is of size $(I_k, I_1 \\times \\cdots \\times I_{n-1} \\times D \\times I_{n+1} \\cdots \\times I_n)$.\n",
    "\n",
    "### Tensor times vector\n",
    "\n",
    "In that case we are contracting over the $n$-th mode by multiplying it with a vector. Given a tensor $\\mathcal{\\tilde X}$ of size $(I_1, I_2, \\cdots, I_N)$, and a vector $\\mathbf{v}$ of size $(I_n)$, the $n$-mode product of $\\mathcal{\\tilde X}$ by $\\mathbf{v}$ is written $\\mathcal{\\tilde X} \\times_n \\mathbf{v}$ and is of size $(I_k, I_1 \\times \\cdots \\times I_{n-1} \\times I_{n+1} \\cdots \\times I_n)$.\n"
   ]
  },
  {
   "cell_type": "code",
   "execution_count": 19,
   "metadata": {},
   "outputs": [
    {
     "data": {
      "image/png": "[encoded data removed]",
      "text/plain": [
       "<IPython.core.display.Image object>"
      ]
     },
     "metadata": {},
     "output_type": "display_data"
    }
   ],
   "source": [
    "from IPython.display import Image, display\n",
    "display(Image(filename='./images/tensor_contraction.png', embed=True))"
   ]
  },
  {
   "cell_type": "markdown",
   "metadata": {},
   "source": [
    "### Example\n",
    "\n",
    "In TensorLy, all the tensor algebra functions are located in the `tensorly.tenalg` module. For the n-mode product, you will need to use the function `mode_dot` that works transparently for multiplying a tensor by a matrix or a vector along a given mode.\n",
    "\n",
    "#### Tensor times matrix\n",
    "\n",
    "With the tensor $\\mathcal{\\tilde X}$ of size (3, 4, 2) we defined previously, let's define a matrix $\\mathbf{M}$ of size (5, 4) to multiply along the second mode:"
   ]
  },
  {
   "cell_type": "code",
   "execution_count": 20,
   "metadata": {},
   "outputs": [
    {
     "name": "stdout",
     "output_type": "stream",
     "text": [
      "(5, 4)\n"
     ]
    }
   ],
   "source": [
    "M = tl.tensor(np.arange(4*5).reshape((5, 4)))\n",
    "print(M.shape)"
   ]
  },
  {
   "cell_type": "markdown",
   "metadata": {},
   "source": [
    "Keep in mind indexing starts at zero, so the second mode is represented by `mode=1`:"
   ]
  },
  {
   "cell_type": "code",
   "execution_count": 21,
   "metadata": {},
   "outputs": [],
   "source": [
    "res = tl.tenalg.mode_dot(X, M, mode=1)"
   ]
  },
  {
   "cell_type": "markdown",
   "metadata": {},
   "source": [
    "As expected the result is of shape (3, 5, 2)"
   ]
  },
  {
   "cell_type": "code",
   "execution_count": 22,
   "metadata": {},
   "outputs": [
    {
     "data": {
      "text/plain": [
       "(3, 5, 2)"
      ]
     },
     "execution_count": 22,
     "metadata": {},
     "output_type": "execute_result"
    }
   ],
   "source": [
    "res.shape"
   ]
  },
  {
   "cell_type": "markdown",
   "metadata": {},
   "source": [
    "#### Tensor times vector\n",
    "\n",
    "Similarly, we can contract along the mode 1 with a vector of size 4 (our tensor is of size (3, 4, 2).\n"
   ]
  },
  {
   "cell_type": "code",
   "execution_count": 23,
   "metadata": {},
   "outputs": [
    {
     "name": "stdout",
     "output_type": "stream",
     "text": [
      "(4,)\n"
     ]
    }
   ],
   "source": [
    "v = tl.tensor(np.arange(4))\n",
    "print(v.shape)"
   ]
  },
  {
   "cell_type": "code",
   "execution_count": 24,
   "metadata": {},
   "outputs": [
    {
     "data": {
      "text/plain": [
       "array([0, 1, 2, 3])"
      ]
     },
     "execution_count": 24,
     "metadata": {},
     "output_type": "execute_result"
    }
   ],
   "source": [
    "v"
   ]
  },
  {
   "cell_type": "code",
   "execution_count": 25,
   "metadata": {},
   "outputs": [
    {
     "data": {
      "text/plain": [
       "array([[[ 0,  1],\n",
       "        [ 2,  3],\n",
       "        [ 4,  5],\n",
       "        [ 6,  7]],\n",
       "\n",
       "       [[ 8,  9],\n",
       "        [10, 11],\n",
       "        [12, 13],\n",
       "        [14, 15]],\n",
       "\n",
       "       [[16, 17],\n",
       "        [18, 19],\n",
       "        [20, 21],\n",
       "        [22, 23]]])"
      ]
     },
     "execution_count": 25,
     "metadata": {},
     "output_type": "execute_result"
    }
   ],
   "source": [
    "X"
   ]
  },
  {
   "cell_type": "code",
   "execution_count": 26,
   "metadata": {},
   "outputs": [],
   "source": [
    "res = tl.tenalg.mode_dot(X, v, mode=1)"
   ]
  },
  {
   "cell_type": "markdown",
   "metadata": {},
   "source": [
    "Recall that $\\mathcal{\\tilde X}$ is of shape (3, 4, 2). We are here contracting over its 2nd mode. \n",
    "\n",
    "Since we have multiplied by a vector, we have effectively contracted out one mode of the tensor so the result will be of matrix of size (3, 2). "
   ]
  },
  {
   "cell_type": "code",
   "execution_count": 27,
   "metadata": {},
   "outputs": [
    {
     "data": {
      "text/plain": [
       "(3, 2)"
      ]
     },
     "execution_count": 27,
     "metadata": {},
     "output_type": "execute_result"
    }
   ],
   "source": [
    "res.shape"
   ]
  },
  {
   "cell_type": "code",
   "execution_count": 28,
   "metadata": {},
   "outputs": [
    {
     "data": {
      "text/plain": [
       "array([[ 28,  34],\n",
       "       [ 76,  82],\n",
       "       [124, 130]])"
      ]
     },
     "execution_count": 28,
     "metadata": {},
     "output_type": "execute_result"
    }
   ],
   "source": [
    "res"
   ]
  },
  {
   "cell_type": "markdown",
   "metadata": {},
   "source": [
    "Here, we could form each column (fiber) of the result, by taking the dot product between the frontal slices of $\\mathcal{\\tilde X}$ and the vector:"
   ]
  },
  {
   "cell_type": "code",
   "execution_count": 29,
   "metadata": {},
   "outputs": [
    {
     "data": {
      "text/plain": [
       "array([ 28,  76, 124])"
      ]
     },
     "execution_count": 29,
     "metadata": {},
     "output_type": "execute_result"
    }
   ],
   "source": [
    "X[:, :, 0] @ v"
   ]
  },
  {
   "cell_type": "code",
   "execution_count": 30,
   "metadata": {},
   "outputs": [
    {
     "data": {
      "text/plain": [
       "array([ 34,  82, 130])"
      ]
     },
     "execution_count": 30,
     "metadata": {},
     "output_type": "execute_result"
    }
   ],
   "source": [
    "X[:, :, 1] @ v"
   ]
  },
  {
   "cell_type": "markdown",
   "metadata": {},
   "source": [
    "We can form the whole product by concanating these as the column of the resulting matrix:"
   ]
  },
  {
   "cell_type": "code",
   "execution_count": 31,
   "metadata": {},
   "outputs": [
    {
     "data": {
      "text/plain": [
       "array([[ 28,  34],\n",
       "       [ 76,  82],\n",
       "       [124, 130]])"
      ]
     },
     "execution_count": 31,
     "metadata": {},
     "output_type": "execute_result"
    }
   ],
   "source": [
    "np.stack([X[:, :, 0] @ v, X[:, :, 1] @ v]).T"
   ]
  },
  {
   "cell_type": "markdown",
   "metadata": {},
   "source": [
    "We could equivalently use the mode-0 slices:"
   ]
  },
  {
   "cell_type": "code",
   "execution_count": 32,
   "metadata": {},
   "outputs": [
    {
     "name": "stdout",
     "output_type": "stream",
     "text": [
      "[28 34]\n",
      "[76 82]\n",
      "[124 130]\n"
     ]
    }
   ],
   "source": [
    "for i in range(3):\n",
    "    print(X[i, ...].T @ v)"
   ]
  },
  {
   "cell_type": "markdown",
   "metadata": {},
   "source": [
    "Again, we can form the whole result by stacking these as the rows of the matrix:"
   ]
  },
  {
   "cell_type": "code",
   "execution_count": 33,
   "metadata": {},
   "outputs": [
    {
     "data": {
      "text/plain": [
       "array([[ 28,  34],\n",
       "       [ 76,  82],\n",
       "       [124, 130]])"
      ]
     },
     "execution_count": 33,
     "metadata": {},
     "output_type": "execute_result"
    }
   ],
   "source": [
    "np.vstack([X[i, ...].T @ v for i in range(3)])"
   ]
  }
 ],
 "metadata": {
  "kernelspec": {
   "display_name": "Python 3",
   "language": "python",
   "name": "python3"
  },
  "language_info": {
   "codemirror_mode": {
    "name": "ipython",
    "version": 3
   },
   "file_extension": ".py",
   "mimetype": "text/x-python",
   "name": "python",
   "nbconvert_exporter": "python",
   "pygments_lexer": "ipython3",
   "version": "3.7.3"
  }
 },
 "nbformat": 4,
 "nbformat_minor": 2
}
