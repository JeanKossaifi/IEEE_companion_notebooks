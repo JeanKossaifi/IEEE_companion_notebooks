{
 "cells": [
  {
   "cell_type": "markdown",
   "metadata": {},
   "source": [
    "# Neural Network Compression with the Tensor-Train Decomposition in ``TensorLy`` and ``PyTorch``\n",
    "\n",
    "In this notebook, we will show how to use **TensorLy** [1] to store the weights of a deep neural network (DNN) in the Tensor-Train (TT) format [2].\n",
    "\n",
    "As a toy example, we show how one can use 1/4 of the number of parameters for a network to classify digits in the MNIST dataset, whilst sacrificing only a 2% drop in classification over its counterpart in non TT-format.\n",
    "\n",
    "Included is the following:\n",
    "\n",
    "1. [Storing an FC layer's weights in the TT-format](#Storing-an-FC-layer's-weights-in-the-TT-format)\n",
    "2. [Defining the networks](#Define-the-networks)\n",
    "3. [Model comparison (number of parameters vs accuracy)](#Model-comparison)\n",
    "\n",
    "---\n",
    "\n",
    "[1]: Jean Kossaifi, Yannis Panagakis, Anima Anandkumar and Maja Pantic, TensorLy: Tensor Learning in Python, https://arxiv.org/abs/1610.09555.\n",
    "\n",
    "[2]: A. Novikov, D. Podoprikhin, A. Osokin, and D. Vetrov, ‘Tensorizing Neural Networks’, arXiv:1509.06569 [cs], Dec. 2015, Accessed: Jul. 27, 2020. [Online]. Available: http://arxiv.org/abs/1509.06569."
   ]
  },
  {
   "cell_type": "code",
   "execution_count": 14,
   "metadata": {},
   "outputs": [],
   "source": [
    "import torch\n",
    "import torch.nn as nn\n",
    "from torch.autograd import Variable\n",
    "import torch.optim as optim\n",
    "from torchvision import datasets, transforms\n",
    "import torch.nn.functional as F\n",
    "\n",
    "import numpy as np\n",
    "\n",
    "import tensorly as tl\n",
    "from tensorly.random import check_random_state"
   ]
  },
  {
   "cell_type": "markdown",
   "metadata": {},
   "source": [
    "Import TensorLy and set the backend to PyTorch:"
   ]
  },
  {
   "cell_type": "code",
   "execution_count": 15,
   "metadata": {},
   "outputs": [],
   "source": [
    "import tensorly as tl\n",
    "tl.set_backend('pytorch')"
   ]
  },
  {
   "cell_type": "markdown",
   "metadata": {},
   "source": [
    "Parameters of the experiment:"
   ]
  },
  {
   "cell_type": "code",
   "execution_count": 16,
   "metadata": {},
   "outputs": [],
   "source": [
    "batch_size = 16\n",
    "device = 'cpu'"
   ]
  },
  {
   "cell_type": "markdown",
   "metadata": {},
   "source": [
    "Let us load the MNIST dataset. The following code will automatically download the data in a `data` folder if it hasn't already been done."
   ]
  },
  {
   "cell_type": "code",
   "execution_count": 4,
   "metadata": {},
   "outputs": [],
   "source": [
    "train_loader = torch.utils.data.DataLoader(\n",
    "    datasets.MNIST('./data/', train=True, download=True,\n",
    "                   transform=transforms.Compose([\n",
    "                       transforms.Resize((32, 32)),\n",
    "                       transforms.ToTensor(),\n",
    "                       transforms.Normalize((0.1307,), (0.3081,))\n",
    "                   ])),\n",
    "    batch_size=batch_size, shuffle=True)\n",
    "test_loader = torch.utils.data.DataLoader(\n",
    "    datasets.MNIST('./data/', train=False, transform=transforms.Compose([\n",
    "                       transforms.Resize((32, 32)),\n",
    "                       transforms.ToTensor(),\n",
    "                       transforms.Normalize((0.1307,), (0.3081,))\n",
    "                   ])),\n",
    "    batch_size=batch_size, shuffle=True)"
   ]
  },
  {
   "cell_type": "markdown",
   "metadata": {},
   "source": [
    "## Storing an FC layer's weights in the TT-format\n",
    "\n",
    "One option is to apply the TT-decomposition directly on the weight matrices $\\mathbf{W}$. This simply corresponds to the standard matrix decomposition however, and thus doesn't fully exploit the parameter-saving capabilities of the TT-decomposition.\n",
    "\n",
    "Given the weights $\\mathbf{W}$ of a fully-connected layer, we first reshape the matrix into a higher-order tensor $\\mathcal{W}$. We can then represent $\\mathcal{W}$ in the TT-format--greatly reducing the number of parameters we have to store, with us only needing to store the TT-cores."
   ]
  },
  {
   "cell_type": "code",
   "execution_count": 21,
   "metadata": {},
   "outputs": [],
   "source": [
    "def get_dimensions(rows, cols):\n",
    "    # form the dims of the tensor W: # kth dimension is formed by i_k*j_k\n",
    "    return [I_k*J_k for I_k, J_k in zip(rows, cols)]\n",
    "\n",
    "class TTLayer(nn.Module):\n",
    "    \"\"\"\n",
    "    Stores the weights of a fully connected layer in the TT-format\n",
    "    \"\"\"\n",
    "    def __init__(self, matrix_shape, cols, rows, rank=8, **kwargs):\n",
    "        super(TTLayer, self).__init__(**kwargs)\n",
    "        \n",
    "        assert(matrix_shape[0]==np.prod(cols))\n",
    "        assert(matrix_shape[1]==np.prod(rows))\n",
    "        \n",
    "        self.rank = rank\n",
    "        self.matrix_shape = matrix_shape\n",
    "        \n",
    "        # get the dimensions of the len(rows)-order tensor\n",
    "        self.dimensions = get_dimensions(rows, cols)\n",
    "        \n",
    "        # Add and register the factors\n",
    "        self.factors = nn.ParameterList(\n",
    "            [nn.Parameter(f, requires_grad=True) for f in tl.random.random_mps(self.dimensions, rank)]\n",
    "        )\n",
    "        \n",
    "        for f in self.factors:\n",
    "            f.data.uniform_(-0.1, 0.1)\n",
    "            \n",
    "    def forward(self, x):\n",
    "        # form full tensor\n",
    "        W = tl.mps_to_tensor(self.factors)\n",
    "        W = tl.reshape(W, self.matrix_shape)\n",
    "        \n",
    "        return torch.matmul(W, x)\n",
    "    \n",
    "    def get_num_params(self):\n",
    "        return sum([p.numel() for p in self.parameters()])"
   ]
  },
  {
   "cell_type": "markdown",
   "metadata": {},
   "source": [
    "# Define the networks\n",
    "\n",
    "We'll define a very simple fully-connected network with two layers, following the experiments section in [2]. The network is thus composed of two weight matrices: $\\mathbf{W}^{(1)}\\in\\mathbb{R}^{1024\\times1024}$ and $\\mathbf{W}^{(2)}\\in\\mathbb{R}^{10\\times1024}$."
   ]
  },
  {
   "cell_type": "code",
   "execution_count": 29,
   "metadata": {},
   "outputs": [
    {
     "data": {
      "image/png": "[encoded data removed]",
      "text/plain": [
       "<IPython.core.display.Image object>"
      ]
     },
     "metadata": {},
     "output_type": "display_data"
    }
   ],
   "source": [
    "from IPython.display import Image, display\n",
    "display(Image(filename='./images/fc-tt.png', embed=True))"
   ]
  },
  {
   "cell_type": "markdown",
   "metadata": {},
   "source": [
    "We'll store these weights explicitly in the first model, and then we'll also store them in the TT-format in the second two models, and see how the networks perform."
   ]
  },
  {
   "cell_type": "code",
   "execution_count": 22,
   "metadata": {},
   "outputs": [],
   "source": [
    "class Net(nn.Module):\n",
    "    def __init__(self, use_tt=False, rank=32):\n",
    "        super(Net, self).__init__()\n",
    "\n",
    "        # w1 (1024 x 1024)\n",
    "        # desired TT-shapes for width and height of matrix\n",
    "        w1_cols = [4, 4, 4, 4, 4]\n",
    "        w1_rows = [4, 4, 4, 4, 4]\n",
    "\n",
    "        # w2 (10 x 1024)\n",
    "        w2_cols = [5, 2, 1, 1, 1]\n",
    "        w2_rows = [4, 4, 4, 4, 4]\n",
    "        \n",
    "        self.fc1 = TTLayer((1024, 1024), w1_cols, w1_rows, rank=rank) if use_tt else nn.Linear(1024, 1024)\n",
    "        self.fc2 = TTLayer((10, 1024), w2_cols, w2_rows, rank=rank) if use_tt else nn.Linear(1024, 10)\n",
    "        \n",
    "    def get_num_params(self):\n",
    "        return sum([p.numel() for p in self.parameters() if p.requires_grad])\n",
    "\n",
    "    def forward(self, x):\n",
    "        x = torch.nn.Flatten()(x)\n",
    "        x = F.relu(self.fc1(x))\n",
    "        x = self.fc2(x)\n",
    "        return F.log_softmax(x, dim=-1)\n",
    "    \n",
    "ranks = [64, 32]\n",
    "models = [\n",
    "    Net(use_tt=False),\n",
    "    Net(use_tt=True, rank=ranks[0]),\n",
    "    Net(use_tt=True, rank=ranks[1]),\n",
    "]"
   ]
  },
  {
   "cell_type": "markdown",
   "metadata": {},
   "source": [
    "Finally, the training loop."
   ]
  },
  {
   "cell_type": "code",
   "execution_count": 7,
   "metadata": {},
   "outputs": [
    {
     "name": "stdout",
     "output_type": "stream",
     "text": [
      "Training network 0...\n",
      "Test set acc: 97.9000015258789%\tTime taken: 436.562253482\n",
      "Training network 1...\n",
      "Test set acc: 96.02999877929688%\tTime taken: 2090.609674247\n",
      "Training network 2...\n",
      "Test set acc: 95.02999877929688%\tTime taken: 1030.9063246240003\n"
     ]
    }
   ],
   "source": [
    "import time\n",
    "\n",
    "n_epoch = 5 # Number of epochs\n",
    "\n",
    "models_acc = []\n",
    "for i, model in enumerate(models):\n",
    "    model = model.to(device)\n",
    "    print('Training network {}...'.format(i))\n",
    "    start = time.process_time()\n",
    "\n",
    "    optimizer = optim.SGD(model.parameters(), lr=0.01, momentum=0.9)\n",
    "    criterion=nn.CrossEntropyLoss()\n",
    "\n",
    "    def train(n_epoch):\n",
    "        model.train()\n",
    "        for batch_idx, (data, target) in enumerate(train_loader):\n",
    "            data, target = data.to(device), target.to(device)\n",
    "\n",
    "            # Important: do not forget to reset the gradients\n",
    "            optimizer.zero_grad()\n",
    "\n",
    "            output = model(data)\n",
    "            loss = criterion(output,target)\n",
    "            loss.backward()\n",
    "            optimizer.step()\n",
    "\n",
    "    def test():\n",
    "        model.eval()\n",
    "        test_loss = 0\n",
    "        correct = 0\n",
    "        for data, target in test_loader:\n",
    "            data, target = data.to(device), target.to(device)\n",
    "            output = model(data)\n",
    "            test_loss = criterion(output,target)\n",
    "            pred = output.data.max(1, keepdim=True)[1] # get the index of the max log-probability\n",
    "            correct += pred.eq(target.data.view_as(pred)).cpu().sum()\n",
    "\n",
    "        test_loss /= len(test_loader.dataset)\n",
    "        \n",
    "        return 100. * correct / len(test_loader.dataset)\n",
    "\n",
    "    for epoch in range(1, n_epoch):\n",
    "        train(epoch)\n",
    "        acc = test()\n",
    "        \n",
    "    print('Test set acc: {}%\\tTime taken: {}'.format(acc, time.process_time() - start))\n",
    "    models_acc += [acc]"
   ]
  },
  {
   "cell_type": "markdown",
   "metadata": {},
   "source": [
    "## Model comparison\n",
    "\n",
    "Plotted below is the models' number of parameters and their respective test-set accuracies after 5 epochs of training.\n",
    "\n",
    "As we can see, storing the weights in the TT-format allows us to store the model with very few paramters: even as few as 1/25 the number of parameters of the original network!"
   ]
  },
  {
   "cell_type": "code",
   "execution_count": 9,
   "metadata": {},
   "outputs": [
    {
     "data": {
      "image/png": "[encoded data removed]",
      "text/plain": [
       "<Figure size 432x288 with 1 Axes>"
      ]
     },
     "metadata": {
      "needs_background": "light"
     },
     "output_type": "display_data"
    }
   ],
   "source": [
    "from matplotlib import pyplot as plt\n",
    "\n",
    "xs = ['Linear'] + ['TT-rank-{}'.format(rank) for rank in ranks]\n",
    "for i, x in enumerate(xs):\n",
    "    plt.scatter(models[i].get_num_params(), models_acc[i], label=x, marker='x')\n",
    "    plt.legend()\n",
    "\n",
    "plt.xscale('log')\n",
    "plt.xlabel('# model parameters')\n",
    "plt.ylabel('Test accuracy (%)')\n",
    "plt.show()"
   ]
  }
 ],
 "metadata": {
  "kernelspec": {
   "display_name": "Python 3",
   "language": "python",
   "name": "python3"
  },
  "language_info": {
   "codemirror_mode": {
    "name": "ipython",
    "version": 3
   },
   "file_extension": ".py",
   "mimetype": "text/x-python",
   "name": "python",
   "nbconvert_exporter": "python",
   "pygments_lexer": "ipython3",
   "version": "3.7.3"
  }
 },
 "nbformat": 4,
 "nbformat_minor": 2
}
