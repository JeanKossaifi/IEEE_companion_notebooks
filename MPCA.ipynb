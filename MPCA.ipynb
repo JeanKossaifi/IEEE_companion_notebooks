{
 "cells": [
  {
   "cell_type": "markdown",
   "metadata": {},
   "source": [
    "# Multilinear PCA\n",
    "\n",
    "This short notebook walks through a basic implementation of **Multilinear Principal Component Analysis** [1,3], using the **TensorLy** [2] library for Python, demonstrating the computation of the projection matrices using *Alternating Partial Projections*.\n",
    "\n",
    "Included is the following:\n",
    "\n",
    "1. [MPCA at a high-level](#MPCA-at-a-high-level)\n",
    "2. [Forming the image tensors](#Forming-the-image-tensors)\n",
    "3. [Computing the mean tensor](#Computing-the-mean-tensor)\n",
    "4. [Initialising the projection matrices](#Initialising-the-projection-matrices)\n",
    "5. [Computing the partial multilinear projection](#Computing-the-partial-multilinear-projection)\n",
    "6. [Computing the mode-$n$ total scatter matrix](#Computing-the-mode-$n$-total-scatter-matrix)\n",
    "7. [Solving for projection matrix $\\mathbf{U}^{(n)}$](#Solving-for-projection-matrix-$\\mathbf{U}^{(n)}$)\n",
    "8. [Putting it all together in k-step optimization](#Putting-it-all-together-in-k-step-optimization)\n",
    "\n",
    "---\n",
    "\n",
    "[1]: H. Lu, K. N. Plataniotis and A. N. Venetsanopoulos, \"MPCA: Multilinear Principal Component Analysis of Tensor Objects,\" in IEEE Transactions on Neural Networks, vol. 19, no. 1, pp. 18-39, Jan. 2008, doi: 10.1109/TNN.2007.901277.\n",
    "\n",
    "[2]: Jean Kossaifi, Yannis Panagakis, Anima Anandkumar and Maja Pantic, TensorLy: Tensor Learning in Python, https://arxiv.org/abs/1610.09555.\n",
    "\n",
    "[3]: Multilinear Subspace Learning: Dimensionality Reduction of Multidimensional Data, Haiping Lu, K. N. Plataniotis, and A. N. Venetsanopoulos, Chapman & Hall/CRC Press Machine Learning and Pattern Recognition Series, Taylor and Francis, ISBN: 978-1-4398572-4-3, December 2013."
   ]
  },
  {
   "cell_type": "markdown",
   "metadata": {},
   "source": [
    "## MPCA at a high-level\n",
    "\n",
    "In a similar manner to regular PCA, *Multilinear PCA* (MPCA) seeks a projection onto a (tensor) subspace where the total scatter is maximised [1]. In contrast to PCA, MPCA seeks not a single projection matrix, but $k$ projection matrices $\\mathbf{U}^{(k)}$ for each mode $k$ of a higher-order tensor, $\\mathcal{X}\\in\\mathbb{R}^{I_1\\times I_2\\times\\cdots\\times I_{N}}$.\n",
    "\n",
    "This total scatter objective is defined for the projection matrices as\n",
    "\n",
    "$$J(\\mathbf{U}^{(k)}) = \\underset{\\mathbf{U}^{(k)}}{\\arg\\max}\n",
    "\\sum_{m=1}^M || \\tilde{\\mathcal{X}}_m \\prod_{n=1}^N \\times_n {\\mathbf{U}^{(n)}}^\\top ||^2_F,$$\n",
    "\n",
    "where $\\tilde{\\mathcal{X}}_m$ is the $m$th data point with the sample mean $\\bar{\\mathcal{X}} = \\frac{1}{M} \\sum_{m=1}^{M}\\mathcal{X}_m$ subtracted.\n",
    "\n",
    "There are a few notable differences to the other algorithms presented in the notebooks. Firstly, unlike multilinear discriminant analysis, in MPCA we do not need to know the class labels of the datapoints. MPCA maximises the total scatter without regard for class label. Secondly, whilst sharing some similarities with Tensorfaces, we don't require any such \"supervision-by-data-structure\" from MPCA, as we do with tensorfaces."
   ]
  },
  {
   "cell_type": "code",
   "execution_count": 1,
   "metadata": {
    "scrolled": true
   },
   "outputs": [],
   "source": [
    "from matplotlib import pyplot as plt\n",
    "\n",
    "import tensorly as tl\n",
    "import numpy as np\n",
    "\n",
    "tl.set_backend('numpy')\n",
    "np.random.seed(1234)"
   ]
  },
  {
   "cell_type": "markdown",
   "metadata": {},
   "source": [
    "## Forming the image tensors\n",
    "\n",
    "Let's first load in the image dataset $\\mathcal{X}\\in\\mathbb{R}^{M\\times H\\times W}$. To form this 3rd-order tensor, we'll use a helper function to download the **YaleB** dataset (note: this cell will take a few minutes to run if your internet connection is slow).\n",
    "\n",
    "In our case, each image sample tensor is 2nd order, but precisely the same approach applies to higher-order tensors (e.g. image tensors of 3rd-order, with a 'colour' channel).\n",
    "\n",
    "Note that we consider the first mode to be the \"sample\" mode: that is, we have $M=1931$ lots of second-order tensors $\\mathcal{X}_m\\in\\mathbb{R}^{H \\times W}$."
   ]
  },
  {
   "cell_type": "code",
   "execution_count": 2,
   "metadata": {},
   "outputs": [
    {
     "name": "stdout",
     "output_type": "stream",
     "text": [
      "---\n",
      "Shape of training set is: (1931, 96, 84)\n",
      "Shape of test set is: (483, 96, 84)\n"
     ]
    },
    {
     "name": "stderr",
     "output_type": "stream",
     "text": [
      "/home/james/miniconda3/lib/python3.7/site-packages/ipykernel_launcher.py:12: VisibleDeprecationWarning: Creating an ndarray from ragged nested sequences (which is a list-or-tuple of lists-or-tuples-or ndarrays with different lengths or shapes) is deprecated. If you meant to do this, you must specify 'dtype=object' when creating the ndarray\n",
      "  if sys.path[0] == '':\n",
      "/home/james/miniconda3/lib/python3.7/site-packages/ipykernel_launcher.py:13: VisibleDeprecationWarning: Creating an ndarray from ragged nested sequences (which is a list-or-tuple of lists-or-tuples-or ndarrays with different lengths or shapes) is deprecated. If you meant to do this, you must specify 'dtype=object' when creating the ndarray\n",
      "  del sys.path[0]\n"
     ]
    }
   ],
   "source": [
    "from utils import fetch_cropped_yaleb\n",
    "\n",
    "dataset_path = './data/'\n",
    "yaleb_data = fetch_cropped_yaleb(dataset_path, zooming=0.5, max_n_subjects=None)\n",
    "\n",
    "X = [yaleb_data[x]['images'] for x in yaleb_data.keys()]\n",
    "y = [[i] * len(x) for i, x in enumerate(X)]\n",
    "\n",
    "# store the indices of training data that belong to each identity\n",
    "people_idx = [[] for _ in range(len(y))]\n",
    "\n",
    "X = np.concatenate(np.array(X))\n",
    "y = np.concatenate(np.array(y))\n",
    "\n",
    "# get test and train splits\n",
    "num_data = len(X)\n",
    "num_train = round(num_data * 0.8)\n",
    "\n",
    "idx = np.random.permutation(num_data)\n",
    "tr_idx, te_idx = idx[:num_train], idx[num_train:]\n",
    "\n",
    "X_train_raw, X_test_raw = X[tr_idx], X[te_idx]\n",
    "y_train, y_test = y[tr_idx], y[te_idx]\n",
    "\n",
    "for i, identity in enumerate(y_train):\n",
    "    # store the person's id label\n",
    "    people_idx[identity] += [i]\n",
    "    \n",
    "X_train_raw, X_test_raw = tl.tensor(X_train_raw), tl.tensor(X_test_raw)\n",
    "y_train, y_test = tl.tensor(y_train), tl.tensor(y_test)\n",
    "    \n",
    "print('---')\n",
    "print('Shape of training set is: {}'.format(X_train_raw.shape))\n",
    "print('Shape of test set is: {}'.format(X_test_raw.shape))"
   ]
  },
  {
   "cell_type": "markdown",
   "metadata": {},
   "source": [
    "## Computing the mean tensor\n",
    "\n",
    "Like with regular PCA, we first need to center each data point\n",
    "\n",
    "$$\\tilde{\\mathcal{X}}_m = \\mathcal{X}_m - \\bar{\\mathcal{X}},$$\n",
    "\n",
    "with the mean tensor $\\bar{\\mathcal{X}} = \\frac{1}{M} \\sum_{m=1}^{M}\\mathcal{X}_m$. Let's do this in **TensorLy**:"
   ]
  },
  {
   "cell_type": "code",
   "execution_count": 3,
   "metadata": {},
   "outputs": [],
   "source": [
    "mean_tensor = tl.mean(X_train_raw, axis=0)\n",
    "X_train = X_train_raw - mean_tensor\n",
    "X_test = X_test_raw - mean_tensor"
   ]
  },
  {
   "cell_type": "markdown",
   "metadata": {},
   "source": [
    "and then view a few of the slices of the mean tensor:"
   ]
  },
  {
   "cell_type": "code",
   "execution_count": 4,
   "metadata": {},
   "outputs": [],
   "source": [
    "from mpl_toolkits.axes_grid1 import ImageGrid\n",
    "\n",
    "def show_images(images, rows, cols, img_size, figsize=(5,5), titles=None):\n",
    "    fig, axs = plt.subplots(1, 1, figsize=figsize)\n",
    "    axs.axis(False)\n",
    "    grid = ImageGrid(fig, 111, nrows_ncols=(rows, cols), axes_pad=0.3)\n",
    "\n",
    "    for i, (ax, im) in enumerate(zip(grid, images)):\n",
    "        ax.imshow(tl.reshape(im, img_size), cmap='gray')\n",
    "        ax.axis(False)\n",
    "        \n",
    "        if titles is not None:\n",
    "            ax.set_title(titles[i])"
   ]
  },
  {
   "cell_type": "code",
   "execution_count": 5,
   "metadata": {},
   "outputs": [
    {
     "data": {
      "image/png": "[encoded data removed]",
      "text/plain": [
       "<Figure size 1440x288 with 3 Axes>"
      ]
     },
     "metadata": {
      "needs_background": "light"
     },
     "output_type": "display_data"
    }
   ],
   "source": [
    "show_images([mean_tensor], 1, 1, (X_train[0].shape[0], X_train[1].shape[1]), figsize=(20, 4), titles=['mean tensor'])"
   ]
  },
  {
   "cell_type": "markdown",
   "metadata": {},
   "source": [
    "## Initialising the projection matrices\n",
    "\n",
    "We now need to initialize the projection matrices. We will do this again as 1-matrices for ease (but note there are much better ways to initialize these matrices, such as via *full projection truncation* [1])"
   ]
  },
  {
   "cell_type": "code",
   "execution_count": 19,
   "metadata": {},
   "outputs": [],
   "source": [
    "rank = 8\n",
    "factors = [tl.ones((dim, rank)) for i, dim in enumerate(list(X_train.shape)[1:])]"
   ]
  },
  {
   "cell_type": "markdown",
   "metadata": {},
   "source": [
    "## Computing the partial multilinear projection \n",
    "\n",
    "Similarly to with the notebook on MDA, we need to project each data sample along *all modes but n*. This is due to the fact that the solution for each mode's projection matrix depends on the solutions to the other modes' matrices (For a discussion of this, see Section 5.1 in [3]).\n",
    "\n",
    "We can do this with **TensorLy**'s `tl.tenalg.multi_mode_dot` function, by supplying the `skip=n` argument.\n",
    "\n",
    "Such a projection of datapoint $m$ along all modes but $n$ is computed as\n",
    "\n",
    "$$\n",
    "\\mathcal{Y}^{(n)}_m = \\mathcal{X}_m\n",
    "\\times_1 {\\mathbf{U}^{(1)}}^\\top\n",
    "\\cdots\n",
    "\\times_{n-1} {\\mathbf{U}^{(n-1)}}^\\top\n",
    "\\times_{n+1} {\\mathbf{U}^{(n+1)}}^\\top\n",
    "\\cdots\n",
    "\\times_{N} {\\mathbf{U}^{(N)}}^\\top.\n",
    "$$\n",
    "\n",
    "As a concrete example, let's project the first datapoint $\\mathcal{X}_0$ along all modes but the first (i.e. for $n=0$):"
   ]
  },
  {
   "cell_type": "code",
   "execution_count": 7,
   "metadata": {},
   "outputs": [],
   "source": [
    "proj_but_k = tl.tenalg.multi_mode_dot(X[0], factors, transpose=True, skip=0)"
   ]
  },
  {
   "cell_type": "markdown",
   "metadata": {},
   "source": [
    "## Computing the mode-$n$ total scatter matrix\n",
    "\n",
    "We next need to compute the mode-$n$ **total scatter matrix** for the partial projections of $\\mathcal{X}_m$ along all modes but $n$. The authors in [3] define this as\n",
    "\n",
    "$$\n",
    "\\mathbf{S}^{(n)}_{T_{\\hat{\\mathcal{Y}}}} =\n",
    "    \\sum_{m=1}^{M}\n",
    "        \\left( {\\mathbf{\\hat Y}_m}_{[n]} - {\\mathbf{\\bar {\\hat Y}}}_{[n]} \\right)\n",
    "        \\left( {\\mathbf{\\hat Y}_m}_{[n]} - {\\mathbf{\\bar {\\hat Y}}}_{[n]} \\right)^\\top,\n",
    "$$\n",
    "\n",
    "where $\\bar{\\hat{\\mathbf{Y}}}_{[n]}$ is the mode-$n$ unfolding of the projection of the mean tensor $\\bar{\\mathcal{X}}$ along all modes but $n$. Note that we've already made the data zero-mean. Let's do this in TensorLy:"
   ]
  },
  {
   "cell_type": "code",
   "execution_count": 8,
   "metadata": {},
   "outputs": [],
   "source": [
    "# ---------\n",
    "# Compute the mode-k total scatter matrix\n",
    "# ---------\n",
    "\n",
    "def compute_modek_total_scatter(mode, factors):\n",
    "    scatter = 0\n",
    "    \n",
    "    for m in range(len(X)):\n",
    "        proj_but_k = tl.unfold(tl.tenalg.multi_mode_dot(X[m], factors, transpose=True, skip=mode), mode)\n",
    "        scatter += tl.dot(proj_but_k, proj_but_k.T)\n",
    "        \n",
    "    return scatter\n",
    "\n",
    "scatter = compute_modek_total_scatter(0, factors)"
   ]
  },
  {
   "cell_type": "markdown",
   "metadata": {},
   "source": [
    "## Solving for projection matrix $\\mathbf{U}^{(n)}$\n",
    "\n",
    "Similarly to with multilinear discriminant analysis, we assume we have known the projection matrices $\\mathbf{U}^{(k)}$, for $k=1,\\dots,n-1,n+1,\\dots,N$. We can then solve for projection matrix $\\mathbf{U}^{(n)}$ by setting it equal to the $I_n^*$ many top eigenvectors of the mode-n scatter matrix computed above:"
   ]
  },
  {
   "cell_type": "code",
   "execution_count": 9,
   "metadata": {},
   "outputs": [],
   "source": [
    "# solve for projection matrix for mode k as top `rank` # of eigenvectors\n",
    "U, _, _ = tl.partial_svd(scatter, n_eigenvecs=rank)\n",
    "factors[0] = U"
   ]
  },
  {
   "cell_type": "markdown",
   "metadata": {},
   "source": [
    "# Putting it all together in k-step optimization\n",
    "\n",
    "Let's run this process for a fixed number of iterations, performing the *Alternating Partial Projections* [3]. For each iteration, we loop over the number of modes and solve for each projection matrix $\\mathbf{U}^{(k)}$ individually:\n",
    "\n",
    "\n",
    "### classification using the low-dimensional tensors\n",
    "\n",
    "\n",
    "To test how well our low-dimensional embeddings retain identity-discriminative information at each iteration, we employ a simple 1-NN classification approach to classify the test set. For a new test data point $\\hat{\\mathcal{X}}$, we first project it onto the lower dimensional subspaces as $\\hat{\\mathcal{Z}} = \\hat{\\mathcal{X}} \\times_1 {\\mathbf{U}^{(1)}}^\\top \\cdots \\times_{N} {\\mathbf{U}^{(N)}}^\\top$, and then classify it using the simple nearest neighbour approach\n",
    "\n",
    "$$c_i =\\arg\\min_i ||\\mathcal{Z}_i - \\hat{\\mathcal{Z}} ||$$\n",
    "\n",
    "in **TensorLy**, this can be achieved using the `tl.tenalg.multi_mode_dot` method along `modes=[1, 2]`  using the learnt mode projection matrices at time step-$t$, and `tl.norm` to measure the distance between points in the tensor subspace:"
   ]
  },
  {
   "cell_type": "code",
   "execution_count": 10,
   "metadata": {},
   "outputs": [],
   "source": [
    "def one_NN(Z_train, Z_test, y_train, y_test):\n",
    "    y_preds = []\n",
    "    for z_test in Z_test:\n",
    "        smallest_dist = np.infty\n",
    "        prediction = -1\n",
    "\n",
    "        for z, label in zip(Z_train, y_train):\n",
    "            dist = tl.norm(z - z_test).item()\n",
    "            if dist < smallest_dist:\n",
    "                smallest_dist = dist\n",
    "                prediction = label.item()\n",
    "\n",
    "        y_preds += [int(prediction)]\n",
    "\n",
    "    acc = (y_preds==tl.to_numpy(y_test)).mean()\n",
    "    return acc\n",
    "\n",
    "\n",
    "def compute_accuracy(X_train, X_test, y_train, y_test, factors):\n",
    "    Z_train = tl.tenalg.multi_mode_dot(X_train, factors, modes=[1, 2], transpose=True)\n",
    "    Z_test = tl.tenalg.multi_mode_dot(X_test, factors, modes=[1, 2], transpose=True)\n",
    "    return  one_NN(Z_train, Z_test, y_train, y_test)"
   ]
  },
  {
   "cell_type": "code",
   "execution_count": 15,
   "metadata": {},
   "outputs": [
    {
     "name": "stdout",
     "output_type": "stream",
     "text": [
      "...done\n",
      "best accuracy of 0.7494824016563147 at iteration 1: \n"
     ]
    }
   ],
   "source": [
    "total_iters = 5\n",
    "\n",
    "# dimension of desired low-dim subspace (shared across all modes)\n",
    "rank = 64\n",
    "num_modes = len(X.shape) - 1\n",
    "\n",
    "accs = []\n",
    "its = []\n",
    "\n",
    "# initialise the factor matrices\n",
    "factors = [tl.ones((dim, rank)) for i, dim in enumerate(list(X_train.shape)[1:])]\n",
    "\n",
    "accs += [compute_accuracy(X_train, X_test, y_train, y_test, factors)]\n",
    "its += [0]\n",
    "\n",
    "for t in range(1, total_iters + 1):\n",
    "    for k in range(num_modes):\n",
    "        scatter = compute_modek_total_scatter(k, factors)\n",
    "        \n",
    "        U, _, _ = tl.partial_svd(scatter, n_eigenvecs=rank)\n",
    "        factors[k] = U\n",
    "        \n",
    "    accs += [compute_accuracy(X_train, X_test, y_train, y_test, factors)]\n",
    "    its += [t]\n",
    "            \n",
    "print('...done')\n",
    "print('best accuracy of {} at iteration {}: '.format(np.max(np.array(accs)), its[np.argmax(np.array(accs))] ))"
   ]
  },
  {
   "cell_type": "markdown",
   "metadata": {},
   "source": [
    "## classification accuracy vs PCA\n",
    "\n",
    "Let's also run the identity classification on the embeddings attained via PCA (with the same number of components) on the vectorized pixels and see how MPCA compares:"
   ]
  },
  {
   "cell_type": "code",
   "execution_count": 17,
   "metadata": {},
   "outputs": [
    {
     "name": "stdout",
     "output_type": "stream",
     "text": [
      "0.6314699792960663\n"
     ]
    }
   ],
   "source": [
    "from sklearn.decomposition import PCA\n",
    "\n",
    "clf = PCA(n_components=rank)\n",
    "\n",
    "img_shape = [-1, X_train.shape[1] * X_train.shape[2]]\n",
    "clf.fit(X_train.reshape(img_shape))\n",
    "\n",
    "Z_train = clf.transform(X_train.reshape(img_shape))\n",
    "Z_test = clf.transform(X_test.reshape(img_shape))\n",
    "\n",
    "pca_acc = one_NN(tl.tensor(Z_train), tl.tensor(Z_test), y_train, y_test)\n",
    "print(pca_acc)"
   ]
  },
  {
   "cell_type": "code",
   "execution_count": 18,
   "metadata": {},
   "outputs": [
    {
     "data": {
      "image/png": "[encoded data removed]",
      "text/plain": [
       "<Figure size 432x288 with 1 Axes>"
      ]
     },
     "metadata": {
      "needs_background": "light"
     },
     "output_type": "display_data"
    },
    {
     "name": "stdout",
     "output_type": "stream",
     "text": [
      "best accuracy of 0.7494824016563147 at iteration 1: \n",
      "pca:  0.6314699792960663\n"
     ]
    }
   ],
   "source": [
    "plt.plot(its, accs, label='MPCA')\n",
    "plt.title('# components: {} '.format(rank))\n",
    "plt.plot(its, [pca_acc] * len(its), label='PCA')\n",
    "plt.xlabel('iterations')\n",
    "plt.ylabel('accuracy')\n",
    "\n",
    "plt.legend()\n",
    "plt.show()\n",
    "\n",
    "print('best accuracy of {} at iteration {}: '.format(np.max(np.array(accs)), its[np.argmax(np.array(accs))] ))\n",
    "print('pca: ', pca_acc)"
   ]
  }
 ],
 "metadata": {
  "kernelspec": {
   "display_name": "Python 3",
   "language": "python",
   "name": "python3"
  },
  "language_info": {
   "codemirror_mode": {
    "name": "ipython",
    "version": 3
   },
   "file_extension": ".py",
   "mimetype": "text/x-python",
   "name": "python",
   "nbconvert_exporter": "python",
   "pygments_lexer": "ipython3",
   "version": "3.7.3"
  }
 },
 "nbformat": 4,
 "nbformat_minor": 2
}
