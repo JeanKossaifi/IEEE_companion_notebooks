{
 "cells": [
  {
   "cell_type": "markdown",
   "metadata": {},
   "source": [
    "# Multilinear Discriminant Analysis\n",
    "\n",
    "This short notebook walks through a basic implementation of **Multilinear Discriminant Analysis** [1,2], using the **TensorLy** [3] library for Python, and provides a simple demo of using the learnt low-dimensional tensor subspace to perform face recognition with 94% accuracy.\n",
    "\n",
    "Included is the following:\n",
    "\n",
    "1. [MDA at a high-level](#MDA-at-a-high-level)\n",
    "2. [Forming the train- and test-set tensors](#forming-the-train--and-test-set-image-tensors)\n",
    "3. [Computing the mean tensors](#computing-the-mean-tensors)\n",
    "4. [The *scatter ratio criterion* for projection matrix $n$](#The-scatter-ratio-criterion-for-projection-matrix-$n$)\n",
    "5. [Computing the between- and within-class scatter matrices](#computing-the-between--and-within-class-scatter-matrices)\n",
    "6. [Solving for projection matrix $\\mathbf{U}^{(n)}$](#Solving-for-projection-matrix-$\\mathbf{U}^{(n)}$)\n",
    "7. [Solving for all projection matrices via $k$-mode optimization](#Solving-for-all-projection-matrices-via-$k$-mode-optimization)\n",
    "8. [Classification experiments vs LDA](#classification-accuracy-vs-LDA)\n",
    "\n",
    "---\n",
    "\n",
    "[1]: S. Yan, D. Xu, Q. Yang, L. Zhang, X. Tang and H. Zhang, \"Multilinear Discriminant Analysis for Face Recognition,\" in IEEE Transactions on Image Processing, vol. 16, no. 1, pp. 212-220, Jan. 2007, doi: 10.1109/TIP.2006.884929.\n",
    "\n",
    "[2]: Q. Li and D. Schonfeld, \"Multilinear Discriminant Analysis for Higher-Order Tensor Data Classification,\" in IEEE Transactions on Pattern Analysis and Machine Intelligence, vol. 36, no. 12, pp. 2524-2537, 1 Dec. 2014, doi: 10.1109/TPAMI.2014.2342214.\n",
    "\n",
    "[3]: Jean Kossaifi, Yannis Panagakis, Anima Anandkumar and Maja Pantic, TensorLy: Tensor Learning in Python, https://arxiv.org/abs/1610.09555.\n",
    "\n",
    "[4]: Kuang-Chih Lee, J. Ho and D. J. Kriegman, \"Acquiring linear subspaces for face recognition under variable lighting,\" in IEEE Transactions on Pattern Analysis and Machine Intelligence, vol. 27, no. 5, pp. 684-698, May 2005, doi: 10.1109/TPAMI.2005.92.\n",
    "\n",
    "[5]: A. S. Georghiades, P. N. Belhumeur and D. J. Kriegman, \"From few to many: illumination cone models for face recognition under variable lighting and pose,\" in IEEE Transactions on Pattern Analysis and Machine Intelligence, vol. 23, no. 6, pp. 643-660, June 2001, doi: 10.1109/34.927464.\n"
   ]
  },
  {
   "cell_type": "markdown",
   "metadata": {},
   "source": [
    "## MDA at a high-level\n",
    "\n",
    "One of the downsides to principal component analysis (PCA)-based approaches to dimensionality reduction is that the class labels are not taken into account, and hence discriminative information may be lost in the low-dimensional representation [6]. (Fisher) *Linear discriminant analysis* (LDA) tackles some of these issues with an objective designed to produce class-separability in the projected space. In *Multilinear Discriminant Analysis* (MDA), rather than projecting the data onto one subspace like with standard LDA, we learn a subspace for each of the $N$ modes of our $N$th order data tensor $\\mathcal{X}\\in\\mathbb{R}^{I_0\\times I_1\\times\\cdots\\times I_{N-1}}$.\n",
    "\n",
    "In MDA the goal is to maximise the separation between the class means in the tensor subspace, and maximise the intraclass overlap [1,2]. Following the idea of the *Fisher criterion* [7], we wish to define an objective that maximises the **between-class** scatter, and minimises the **within-class** scatter. For each of the $N$ modes, we seek to learn a projection matrix $\\mathbf{U}^{(k)}\\in\\mathbb{R}^{I_k \\times I_k^*}$, where $I_k* < I_k$ is the dimensionality of the lower-dimensional subspace for mode $k$. This gives rise to the projected lower-dimensional tensor, which we can use for downstream tasks, such as identity recognition\n",
    "\n",
    "$$\\mathcal{Z} = \\mathcal{X} \\times_0 {\\mathbf{U}^{(0)}}^\\top \\times_1 {\\mathbf{U}^{(1)}}^\\top \\cdots \\times_{N-1} {\\mathbf{U}^{(N-1)}}^\\top \\in\\mathbb{R}^{I_0^*\\times\\cdots\\times I_{N-1}^*}.$$\n",
    "\n",
    "Intuitively, we want the projected data points to be well-separated by class label, and for the intraclass-overlap to be as large as possible.\n",
    "\n",
    "---\n",
    "\n",
    "[1]: S. Yan, D. Xu, Q. Yang, L. Zhang, X. Tang and H. Zhang, \"Multilinear Discriminant Analysis for Face Recognition,\" in IEEE Transactions on Image Processing, vol. 16, no. 1, pp. 212-220, Jan. 2007, doi: 10.1109/TIP.2006.884929.\n",
    "\n",
    "[2]: Q. Li and D. Schonfeld, \"Multilinear Discriminant Analysis for Higher-Order Tensor Data Classification,\" in IEEE Transactions on Pattern Analysis and Machine Intelligence, vol. 36, no. 12, pp. 2524-2537, 1 Dec. 2014, doi: 10.1109/TPAMI.2014.2342214.\n",
    "\n",
    "[6]: Welling, Max. Fisher linear discriminant analysis. Technical report, University of Toronto, Toronto, Ontario,\n",
    "Canada, 2005.\n",
    "\n",
    "[7]: Bishop, C. M. (2007). Pattern Recognition and Machine Learning (Information Science and Statistics). Springer. ISBN: 0387310738"
   ]
  },
  {
   "cell_type": "code",
   "execution_count": 1,
   "metadata": {
    "scrolled": true
   },
   "outputs": [],
   "source": [
    "from matplotlib import pyplot as plt\n",
    "\n",
    "import tensorly as tl\n",
    "import numpy as np\n",
    "\n",
    "tl.set_backend('numpy')\n",
    "np.random.seed(1234)"
   ]
  },
  {
   "cell_type": "markdown",
   "metadata": {},
   "source": [
    "## forming the train- and test-set image tensors\n",
    "\n",
    "Our training samples are denoted as $N$th order tensors, $\\mathcal{X}_{ij}\\in\\mathbb{R}^{I_0\\times\\ I_1\\times\\cdots\\times I_{N-1}}$, where the subscripts denote that the training sample $\\mathcal{X}_{ij}$ is the $j$th example of the total of $n_i$ examples for class $i$. We have a total number of $c$ mututally exclusive class labels.\n",
    "\n",
    "In our case, our image tensors are 2nd order, but precisely the same approach applies to higher-order tensors (e.g. image tensors of 3rd-order, with a 'colour' channel). Each data point is of size $38\\times 34$, and our number of unique classes (identities) is $c=38$.\n",
    "\n",
    "We first load in the YaleB dataset in a standard fashion, take 80% for the training set, and then form TensorLy tensors from them as follows"
   ]
  },
  {
   "cell_type": "code",
   "execution_count": 2,
   "metadata": {},
   "outputs": [
    {
     "name": "stdout",
     "output_type": "stream",
     "text": [
      "---\n",
      "Shape of training set is: (1931, 38, 34)\n",
      "Shape of test set is: (483, 38, 34)\n"
     ]
    }
   ],
   "source": [
    "from utils import fetch_cropped_yaleb\n",
    "\n",
    "dataset_path = './data/'\n",
    "yaleb_data = fetch_cropped_yaleb(dataset_path, zooming=0.2, max_n_subjects=None)\n",
    "\n",
    "X = [yaleb_data[x]['images'] for x in yaleb_data.keys()]\n",
    "y = [[i] * len(x) for i, x in enumerate(X)]\n",
    "\n",
    "# store the indices of training data that belong to each identity\n",
    "people_idx = [[] for _ in range(len(y))]\n",
    "\n",
    "X = np.concatenate(np.array(X))\n",
    "y = np.concatenate(np.array(y))\n",
    "\n",
    "# get test and train splits\n",
    "num_data = len(X)\n",
    "num_train = round(num_data * 0.8)\n",
    "\n",
    "idx = np.random.permutation(num_data)\n",
    "tr_idx, te_idx = idx[:num_train], idx[num_train:]\n",
    "\n",
    "X_train, X_test = X[tr_idx], X[te_idx]\n",
    "y_train, y_test = y[tr_idx], y[te_idx]\n",
    "\n",
    "for i, identity in enumerate(y_train):\n",
    "    # store the person's id label\n",
    "    people_idx[identity] += [i]\n",
    "    \n",
    "X_train, X_test = tl.tensor(X_train), tl.tensor(X_test)\n",
    "y_train, y_test = tl.tensor(y_train), tl.tensor(y_test)\n",
    "    \n",
    "print('---')\n",
    "print('Shape of training set is: {}'.format(X_train.shape))\n",
    "print('Shape of test set is: {}'.format(X_test.shape))"
   ]
  },
  {
   "cell_type": "markdown",
   "metadata": {},
   "source": [
    "## computing the mean tensors\n",
    "\n",
    "For the computation of the scatter matrices, we will need a global mean tensor $\\mathcal{M}$ (the higher-order analogue of our mean vector $\\mathbf{m}$ in the standard LDA setting), and a set of class-specific mean tensors $\\mathcal{M}_i$ for $i=1,\\dots c$.\n",
    "\n",
    "The class-specific mean tensors are computed as\n",
    "\n",
    "$$\\mathcal{M}_i= \\frac{1}{n_i} \\sum_{j=0}^{n_i-1} \\mathcal{X}_{ij},$$\n",
    "\n",
    "and the global mean tensor as\n",
    "\n",
    "$$\\mathcal{M}= \\frac{1}{N} \\sum_{i=0}^{c-1} \\sum_{j=0}^{n_i-1} \\mathcal{X}_{ij}.$$"
   ]
  },
  {
   "cell_type": "code",
   "execution_count": 3,
   "metadata": {},
   "outputs": [
    {
     "data": {
      "image/png": "[encoded data removed]",
      "text/plain": [
       "<Figure size 144x144 with 1 Axes>"
      ]
     },
     "metadata": {
      "needs_background": "light"
     },
     "output_type": "display_data"
    },
    {
     "data": {
      "image/png": "[encoded data removed]",
      "text/plain": [
       "<Figure size 1440x360 with 8 Axes>"
      ]
     },
     "metadata": {
      "needs_background": "light"
     },
     "output_type": "display_data"
    }
   ],
   "source": [
    "# global and class-specific mean tensors\n",
    "global_mean = tl.mean(X_train, axis=0)\n",
    "class_means = []\n",
    "\n",
    "# compute the mean tensor for each identity\n",
    "for i, person_idx in enumerate(people_idx):\n",
    "    class_means += [tl.mean(X_train[person_idx], axis=0)]\n",
    "    \n",
    "plt.figure(figsize=(2, 2))\n",
    "plt.imshow(global_mean, cmap='gray')\n",
    "plt.title('Global mean face')\n",
    "\n",
    "fig, axs = plt.subplots(1, 8, figsize=(20, 5))\n",
    "for i, ax in enumerate(axs):\n",
    "    ax.imshow(class_means[i], cmap='gray')\n",
    "    ax.set_title('class {} mean face'.format(i))"
   ]
  },
  {
   "cell_type": "markdown",
   "metadata": {},
   "source": [
    "## The *scatter ratio criterion* for projection matrix $n$\n",
    "\n",
    "Following [2], we arrive at the so-called **scatter ratio objective function** (as a natural higher-order extension of the Fisher criterion) for each mode $n$ as\n",
    "\n",
    "$$ \\begin{align}\n",
    "J(\\mathbf{U}^{(n)})\n",
    "    &= \\frac{ \\sum_{i=0}^{c-1} n_i || \\left( \\mathcal{M}_i - \\mathcal{M} \\right) \\times_0 {\\mathbf{U}^{(0)}}^\\top \\cdots \\times_{N-1} {\\mathbf{U}^{(N-1)}}^\\top ||^2_F }{ \\sum_{i=0}^{c-1} \\sum_{j=0}^{n_i-1}  || \\left( \\mathcal{X}_{ij} - \\mathcal{M}_i \\right) \\times_0 {\\mathbf{U}^{(0)}}^\\top \\cdots \\times_{N-1} {\\mathbf{U}^{(N-1)}}^\\top ||^2_F } \\\\\n",
    "    &= \\frac{\\text{tr} \\left\\{ {\\mathbf{U}^{(n)}}^\\top \\mathbf{B}_n^{\\bar{n}}{\\mathbf{U}^{(n)}} \\right\\} }{ \\text{tr} \\left\\{ {\\mathbf{U}^{(n)}}^\\top \\mathbf{W}_n^{\\bar{n}}\\mathbf{U}^{(n)} \\right\\} }\n",
    "\\end{align},$$\n",
    "\n",
    "where Li *et al.* [2] define $\\mathbf{B}_n^{\\bar{n}}$ and $\\mathbf{W}_n^{\\bar{n}}$ as the mode-$n$ between- and within-class scatter matrices in the partially projected tensor subspace, along all modes except $n$. Li *et al.* write these higher-order mode-$n$ scatter matrices analogues as\n",
    "\n",
    "$$\n",
    "\\mathbf{B}_n^{\\bar{n}}\n",
    "    = \\sum_{i=0}^{c-1} n_i \\left[ \\left(\\mathcal{M}_i - \\mathcal{M}\\right) \\prod_{\\substack{k=0 \\\\ k\\neq n}}^{N-1} \\times_k {\\mathbf{U}^{(k)}}^\\top \\right]_{[n]}\n",
    "    \\left[ \\left(\\mathcal{M}_i - \\mathcal{M}\\right) \\prod_{\\substack{k=0 \\\\ k\\neq n}}^{N-1} \\times_k {\\mathbf{U}^{(k)}}^\\top \\right]_{[n]}^\\top,\n",
    "$$\n",
    "\n",
    "for the **between-class scatter**, and\n",
    "\n",
    "$$\n",
    "\\mathbf{W}_n^{\\bar{n}}\n",
    "    = \\sum_{i=0}^{c-1} \\sum_{j=0}^{n_i-1} \\left[ \\left(\\mathcal{X}_{ij} - \\mathcal{M}_i\\right) \\prod_{\\substack{k=0 \\\\ k\\neq n}}^{N-1} \\times_k {\\mathbf{U}^{(k)}}^\\top \\right]_{[n]}\n",
    "    \\left[ \\left(\\mathcal{X}_{ij} - \\mathcal{M}_i\\right) \\prod_{\\substack{k=0 \\\\ k\\neq n}}^{N-1} \\times_k {\\mathbf{U}^{(k)}}^\\top \\right]_{[n]}^\\top,\n",
    "$$\n",
    "\n",
    "for the **within-class scatter**, with $\\mathbf{X}_{[n]}$ denoting the *mode-$n$ unfolding* of tensor $\\mathcal{X}$.\n",
    "\n",
    "This mode-$n$ product over all modes but $k$ can be computed in **TensorLy** with the `tl.tenalg.multi_mode_dot` function, by supplying the `skip=k` argument as follows below."
   ]
  },
  {
   "cell_type": "markdown",
   "metadata": {},
   "source": [
    "We first define the list of projection matrices for each mode $\\mathbf{U}^{(k)}$, initialising them as a tensor of all ones"
   ]
  },
  {
   "cell_type": "code",
   "execution_count": 4,
   "metadata": {},
   "outputs": [],
   "source": [
    "rank = 8\n",
    "factors = [tl.ones((dim, rank)) for i, dim in enumerate(list(X_train.shape)[1:])]"
   ]
  },
  {
   "cell_type": "markdown",
   "metadata": {},
   "source": [
    "We can then compute the term\n",
    "$\\left(\\mathcal{M}_i - \\mathcal{M}\\right) \\prod_{\\substack{k=0 \\\\ k\\neq n}}^{N-1} \\times_k {\\mathbf{U}^{(k)}}^\\top$ with **TensorLy** very straight-forwardly with one line of code as"
   ]
  },
  {
   "cell_type": "code",
   "execution_count": 5,
   "metadata": {},
   "outputs": [],
   "source": [
    "M = class_means[0] - global_mean\n",
    "# mode-n product of M with every matrix (but the current kth) in factors\n",
    "proj_but_k = tl.tenalg.multi_mode_dot(M, factors, transpose=True, skip=1)"
   ]
  },
  {
   "cell_type": "markdown",
   "metadata": {},
   "source": [
    "## computing the between- and within-class scatter matrices\n",
    "\n",
    "With these quantities computed above, we can now form both the between- and within-class scatter matrices for mode-$n$ by simply summing jointly over the class labels (for the former) and datapoints of each class label (for the later):"
   ]
  },
  {
   "cell_type": "code",
   "execution_count": 6,
   "metadata": {},
   "outputs": [],
   "source": [
    "# ---------\n",
    "# Compute the mode k-unfolded within- and between-class scatter matrices\n",
    "# ---------\n",
    "\n",
    "num_classes = len(class_means)\n",
    "num_modes = len(X_train.shape) - 1\n",
    "num_each_class = [len(p) for p in people_idx]\n",
    "\n",
    "def compute_mode_k_scatters(mode, factors):\n",
    "    B_scat = 0\n",
    "    W_scat = 0\n",
    "\n",
    "    for c in range(num_classes):\n",
    "        M = class_means[c] - global_mean\n",
    "        proj_but_k = tl.unfold(tl.tenalg.multi_mode_dot(M, factors, transpose=True, skip=mode), mode)\n",
    "        B_scat += num_each_class[c] * tl.dot(proj_but_k, proj_but_k.T)\n",
    "\n",
    "        # inner loop for within-class computation\n",
    "        for j in range(num_each_class[c]):\n",
    "            # subtract mean for person c from jth image of cth person\n",
    "            M = X_train[people_idx[c][j]] - class_means[c]\n",
    "\n",
    "            proj_but_k = tl.unfold(tl.tenalg.multi_mode_dot(M, factors, transpose=True, skip=mode), mode)\n",
    "            W_scat += tl.dot(proj_but_k, proj_but_k.T)\n",
    "            \n",
    "    return B_scat, W_scat\n",
    "\n",
    "B_scat, W_scat = compute_mode_k_scatters(0, factors)"
   ]
  },
  {
   "cell_type": "markdown",
   "metadata": {},
   "source": [
    "## Solving for projection matrix $\\mathbf{U}^{(n)}$\n",
    "\n",
    "We assume we have known the projection matrices $\\mathbf{U}^{(k)}$, for $k=0,\\dots,n-1,n+1,\\dots,N-1$ (either by us having already computed them (if $k<n$) or via their initial state as $\\mathbf{1}$-matrices). We can then solve for projection matrix $\\mathbf{U}^{(n)}$ in the **scatter ratio objective** ${\\mathbf{U}^{(n)}}^*=\\arg\\max_{\\mathbf{U}^{(n)}} J(\\mathbf{U}^{(n)})$ via the solution to the generalised eigenproblem [1,2,6]. In the likely case when the mode-$n$ within-class scatter matrix $\\mathbf{W}_n^{\\bar{n}}$ is nonsingular, this reduces to a standard eigenproblem (see section III in [1] for a discussion of this issue)\n",
    "\n",
    "Computing the top `rank` number of eigenvectors for $\\left(\\mathbf{W}_n^{\\bar{n}}\\right)^{-1}\\mathbf{B}_n^{\\bar{n}}$ with **TensorLy** gives us the solution for the mode-$n$ projection matrix."
   ]
  },
  {
   "cell_type": "code",
   "execution_count": 7,
   "metadata": {},
   "outputs": [],
   "source": [
    "# solve for projection matrix for mode k as top `rank` # of eigenvectors\n",
    "U, _, _ = tl.partial_svd(tl.dot(tl.tensor(np.linalg.inv(W_scat)),  B_scat), n_eigenvecs=rank)\n",
    "factors[0] = U"
   ]
  },
  {
   "cell_type": "markdown",
   "metadata": {},
   "source": [
    "## Solving for all projection matrices via $k$-mode optimization\n",
    "\n",
    "To solve for *all* projection matrices, we need to employ an iterative scheme, due to the fact that the solution projection matrix for a given mode depends on projection matrices from all the other modes. MDA [3] first initializes all projection matrices as $\\mathbf{1}$-matrices, and employs an iterative scheme to solve for each projection matrix at a time.\n",
    "\n",
    "### classification using the low-dimensional tensors\n",
    "\n",
    "To test how well our low-dimensional embeddings preserve class-discriminative information at each iteration, we employ a simple 1-NN classification approach to classify the test set. For a new test data point $\\hat{\\mathcal{X}}$, we first project it onto the lower dimensional subspaces as $\\hat{\\mathcal{Z}} = \\hat{\\mathcal{X}} \\times_0 {\\mathbf{U}^{(0)}}^\\top \\cdots \\times_{N-1} {\\mathbf{U}^{(N-1)}}^\\top$, and then classify it using the simple nearest neighbour approach\n",
    "\n",
    "$$c_i =\\arg\\min_i ||\\mathcal{Z}_i - \\hat{\\mathcal{Z}} ||$$\n",
    "\n",
    "in **TensorLy**, this can be achieved using the `tl.tenalg.multi_mode_dot` method along `modes=[1, 2]`  using the learnt mode projection matrices at time step-$t$, and `tl.norm` to measure the distance between points in the tensor subspace:"
   ]
  },
  {
   "cell_type": "code",
   "execution_count": 8,
   "metadata": {},
   "outputs": [],
   "source": [
    "def one_NN(Z_train, Z_test, y_train, y_test):\n",
    "    y_preds = []\n",
    "    for z_test in Z_test:\n",
    "        smallest_dist = np.infty\n",
    "        prediction = -1\n",
    "\n",
    "        for z, label in zip(Z_train, y_train):\n",
    "            dist = tl.norm(z - z_test).item()\n",
    "            if dist < smallest_dist:\n",
    "                smallest_dist = dist\n",
    "                prediction = label.item()\n",
    "\n",
    "        y_preds += [int(prediction)]\n",
    "\n",
    "    acc = (y_preds==tl.to_numpy(y_test)).mean()\n",
    "    return acc"
   ]
  },
  {
   "cell_type": "code",
   "execution_count": 9,
   "metadata": {},
   "outputs": [
    {
     "name": "stdout",
     "output_type": "stream",
     "text": [
      "...done\n",
      "best accuracy of 0.9440993788819876 at iteration 4: \n"
     ]
    }
   ],
   "source": [
    "total_iters = 5\n",
    "\n",
    "# dimension of desired low-dim subspace (shared across all modes)\n",
    "rank = 16\n",
    "\n",
    "accs = []\n",
    "its = []\n",
    "\n",
    "# initialise the factor matrices as 1 matrices\n",
    "factors = [tl.ones((dim, rank)) for i, dim in enumerate(list(X_train.shape)[1:])]\n",
    "\n",
    "for t in range(1, total_iters + 1):\n",
    "    for k in range(num_modes):\n",
    "        B_scat, W_scat = compute_mode_k_scatters(k, factors)\n",
    "        \n",
    "        #U, _, _ = tl.partial_svd(tl.dot(tl.tensor(np.linalg.inv(W_scat)),  B_scat))#, n_eigenvecs=rank))\n",
    "        #factors[k] = U[:, :rank]\n",
    "        \n",
    "        U, _, _ = tl.partial_svd(tl.dot(tl.tensor(np.linalg.inv(W_scat)),  B_scat), n_eigenvecs=rank)\n",
    "        factors[k] = U\n",
    "        \n",
    "        error = tl.norm(tl.dot(factors[k], factors[k].T) - tl.eye(X_train.shape[1+k]))\n",
    "        \n",
    "    if t % 10 == 0:\n",
    "        print('Computing accuracy using projection matrices at iteration {}...'.format(t))\n",
    "        \n",
    "    Z_train = tl.tenalg.multi_mode_dot(X_train, factors, modes=[1, 2], transpose=True)\n",
    "    Z_test = tl.tenalg.multi_mode_dot(X_test, factors, modes=[1, 2], transpose=True)\n",
    "    accs += [one_NN(Z_train, Z_test, y_train, y_test)]\n",
    "    its += [t]\n",
    "            \n",
    "print('...done')\n",
    "print('best accuracy of {} at iteration {}: '.format(np.max(np.array(accs)), its[np.argmax(np.array(accs))] ))"
   ]
  },
  {
   "cell_type": "markdown",
   "metadata": {},
   "source": [
    "## classification accuracy vs LDA\n",
    "\n",
    "Let's also run the identity classification on the embeddings attained via LDA (with the same number of components) on the vectorized pixels and see how MDA compares:"
   ]
  },
  {
   "cell_type": "code",
   "execution_count": 10,
   "metadata": {},
   "outputs": [],
   "source": [
    "from sklearn.discriminant_analysis import LinearDiscriminantAnalysis\n",
    "clf = LinearDiscriminantAnalysis(n_components=rank)\n",
    "\n",
    "img_shape = [-1, X_train.shape[1] * X_train.shape[2]]\n",
    "clf.fit(X_train.reshape(img_shape), y_train)\n",
    "\n",
    "Z_train = clf.transform(X_train.reshape(img_shape))\n",
    "Z_test = clf.transform(X_test.reshape(img_shape))\n",
    "\n",
    "lda_acc = one_NN(tl.tensor(Z_train), tl.tensor(Z_test), y_train, y_test)"
   ]
  },
  {
   "cell_type": "code",
   "execution_count": 12,
   "metadata": {},
   "outputs": [
    {
     "data": {
      "image/png": "[encoded data removed]",
      "text/plain": [
       "<Figure size 432x288 with 1 Axes>"
      ]
     },
     "metadata": {
      "needs_background": "light"
     },
     "output_type": "display_data"
    },
    {
     "name": "stdout",
     "output_type": "stream",
     "text": [
      "best accuracy of 0.9440993788819876 at iteration 4: \n",
      "lda:  0.8240165631469979\n"
     ]
    }
   ],
   "source": [
    "plt.plot(its, accs, label='MDA')\n",
    "plt.title('# components: {} '.format(rank))\n",
    "plt.plot(its, [lda_acc] * len(its), label='LDA')\n",
    "plt.xlabel('iterations')\n",
    "plt.ylabel('accuracy')\n",
    "\n",
    "plt.legend()\n",
    "plt.show()\n",
    "\n",
    "print('best accuracy of {} at iteration {}: '.format(np.max(np.array(accs)), its[np.argmax(np.array(accs))] ))\n",
    "print('lda: ', lda_acc)"
   ]
  }
 ],
 "metadata": {
  "kernelspec": {
   "display_name": "Python 3",
   "language": "python",
   "name": "python3"
  },
  "language_info": {
   "codemirror_mode": {
    "name": "ipython",
    "version": 3
   },
   "file_extension": ".py",
   "mimetype": "text/x-python",
   "name": "python",
   "nbconvert_exporter": "python",
   "pygments_lexer": "ipython3",
   "version": "3.7.3"
  }
 },
 "nbformat": 4,
 "nbformat_minor": 2
}
