{
 "cells": [
  {
   "cell_type": "markdown",
   "metadata": {},
   "source": [
    "# Multilinear PCA\n",
    "\n",
    "This short notebook walks through a basic implementation of **Multilinear Principal Component Analysis** [1,3], using the **TensorLy** [2] library for Python, demonstrating the computation of the projection matrices using *Alternating Partial Projections*.\n",
    "\n",
    "Included is the following:\n",
    "\n",
    "1. [MPCA at a high-level](#MPCA-at-a-high-level)\n",
    "2. [Forming the image tensors](#Forming-the-image-tensors)\n",
    "3. [Computing the mean tensor](#Computing-the-mean-tensor)\n",
    "4. [Initialising the projection matrices](#Initialising-the-projection-matrices)\n",
    "5. [Computing the partial multilinear projection](#Computing-the-partial-multilinear-projection)\n",
    "6. [Computing the mode-$n$ total scatter matrix](#Computing-the-mode-$n$-total-scatter-matrix)\n",
    "7. [Solving for projection matrix $\\mathbf{U}^{(n)}$](#Solving-for-projection-matrix-$\\mathbf{U}^{(n)}$)\n",
    "8. [Putting it all together in k-step optimization](#Putting-it-all-together-in-k-step-optimization)\n",
    "\n",
    "---\n",
    "\n",
    "[1]: H. Lu, K. N. Plataniotis and A. N. Venetsanopoulos, \"MPCA: Multilinear Principal Component Analysis of Tensor Objects,\" in IEEE Transactions on Neural Networks, vol. 19, no. 1, pp. 18-39, Jan. 2008, doi: 10.1109/TNN.2007.901277.\n",
    "\n",
    "[2]: Jean Kossaifi, Yannis Panagakis, Anima Anandkumar and Maja Pantic, TensorLy: Tensor Learning in Python, https://arxiv.org/abs/1610.09555.\n",
    "\n",
    "[3]: Multilinear Subspace Learning: Dimensionality Reduction of Multidimensional Data, Haiping Lu, K. N. Plataniotis, and A. N. Venetsanopoulos, Chapman & Hall/CRC Press Machine Learning and Pattern Recognition Series, Taylor and Francis, ISBN: 978-1-4398572-4-3, December 2013."
   ]
  },
  {
   "cell_type": "markdown",
   "metadata": {},
   "source": [
    "## MPCA at a high-level\n",
    "\n",
    "In a similar manner to regular PCA, *Multilinear PCA* (MPCA) seeks a projection onto a (tensor) subspace where the total scatter is maximised [1]. In contrast to PCA, MPCA seeks not a single projection matrix, but $k$ projection matrices $\\mathbf{U}^{(k)}$ for each mode $k$ of a higher-order tensor, $\\mathcal{X}\\in\\mathbb{R}^{I_1\\times I_2\\times\\cdots\\times I_{N}}$.\n",
    "\n",
    "This total scatter objective is defined for the projection matrices as\n",
    "\n",
    "$$J(\\mathbf{U}^{(k)}) = \\underset{\\mathbf{U}^{(k)}}{\\arg\\max}\n",
    "\\sum_{m=1}^M || \\tilde{\\mathcal{X}}_m \\prod_{n=1}^N \\times_n {\\mathbf{U}^{(n)}}^\\top ||^2_F,$$\n",
    "\n",
    "where $\\tilde{\\mathcal{X}}_m$ is the $m$th data point with the sample mean $\\bar{\\mathcal{X}} = \\frac{1}{M} \\sum_{m=1}^{M}\\mathcal{X}_m$ subtracted.\n",
    "\n",
    "There are a few notable differences to the other algorithms presented in the notebooks. Firstly, unlike multilinear discriminant analysis, in MPCA we do not need to know the class labels of the datapoints. MPCA maximises the total scatter without regard for class label. Secondly, whilst sharing some similarities with Tensorfaces, we don't require any such \"supervision-by-data-structure\" from MPCA, as we do with tensorfaces."
   ]
  },
  {
   "cell_type": "code",
   "execution_count": 1,
   "metadata": {
    "scrolled": true
   },
   "outputs": [],
   "source": [
    "from matplotlib import pyplot as plt\n",
    "\n",
    "import tensorly as tl\n",
    "import numpy as np\n",
    "\n",
    "tl.set_backend('numpy')\n",
    "np.random.seed(1234)"
   ]
  },
  {
   "cell_type": "markdown",
   "metadata": {},
   "source": [
    "## Forming the image tensors\n",
    "\n",
    "Let's first load in the image dataset $\\mathcal{X}\\in\\mathbb{R}^{M\\times 50\\times H\\times W}$. To form this 4th-order tensor, we'll use a helper function to download the **YaleB** dataset (note: this cell will take a few minutes to run if your internet connection is slow).\n",
    "\n",
    "Note that we consider the first mode to be the \"sample\" mode: that is, we have $M=58$ lots of third-order tensors $\\mathcal{X}_m\\in\\mathbb{R}^{50\\times H \\times W}$."
   ]
  },
  {
   "cell_type": "code",
   "execution_count": 2,
   "metadata": {},
   "outputs": [],
   "source": [
    "from utils import fetch_cropped_yaleb\n",
    "\n",
    "dataset_path = './data/'\n",
    "yaleb_data = fetch_cropped_yaleb(dataset_path, zooming=0.3, max_n_subjects=None)"
   ]
  },
  {
   "cell_type": "code",
   "execution_count": 3,
   "metadata": {},
   "outputs": [
    {
     "name": "stdout",
     "output_type": "stream",
     "text": [
      "Shape of tensor image ensemble is: (38, 50, 58, 50)\n"
     ]
    },
    {
     "data": {
      "text/plain": [
       "<matplotlib.image.AxesImage at 0x7f059d3aa1d0>"
      ]
     },
     "execution_count": 3,
     "metadata": {},
     "output_type": "execute_result"
    },
    {
     "data": {
      "image/png": "[encoded data removed]",
      "text/plain": [
       "<Figure size 432x288 with 1 Axes>"
      ]
     },
     "metadata": {
      "needs_background": "light"
     },
     "output_type": "display_data"
    }
   ],
   "source": [
    "num_ilum = 50\n",
    "\n",
    "X_raw = tl.concatenate([tl.tensor(yaleb_data[x]['images'][:num_ilum][None, ...]) for x in yaleb_data.keys()])\n",
    "print('Shape of tensor image ensemble is: {}'.format(X_raw.shape))\n",
    "\n",
    "# let's view one of the images\n",
    "plt.imshow(X_raw[0][0], cmap='gray')"
   ]
  },
  {
   "cell_type": "markdown",
   "metadata": {},
   "source": [
    "## Computing the mean tensor\n",
    "\n",
    "Like with regular PCA, we first need to center each data point\n",
    "\n",
    "$$\\tilde{\\mathcal{X}}_m = \\mathcal{X}_m - \\bar{\\mathcal{X}},$$\n",
    "\n",
    "with the mean tensor $\\bar{\\mathcal{X}} = \\frac{1}{M} \\sum_{m=1}^{M}\\mathcal{X}_m$. Let's do this in **TensorLy**:"
   ]
  },
  {
   "cell_type": "code",
   "execution_count": 4,
   "metadata": {},
   "outputs": [],
   "source": [
    "mean_tensor = tl.mean(X_raw, axis=0)\n",
    "X = X_raw - mean_tensor"
   ]
  },
  {
   "cell_type": "markdown",
   "metadata": {},
   "source": [
    "and then view a few of the slices of the mean tensor:"
   ]
  },
  {
   "cell_type": "code",
   "execution_count": 5,
   "metadata": {},
   "outputs": [],
   "source": [
    "from mpl_toolkits.axes_grid1 import ImageGrid\n",
    "\n",
    "def show_images(images, rows, cols, img_size, figsize=(5,5), titles=None):\n",
    "    fig, axs = plt.subplots(1, 1, figsize=figsize)\n",
    "    axs.axis(False)\n",
    "    grid = ImageGrid(fig, 111, nrows_ncols=(rows, cols), axes_pad=0.3)\n",
    "\n",
    "    for i, (ax, im) in enumerate(zip(grid, images)):\n",
    "        ax.imshow(tl.reshape(im, img_size), cmap='gray')\n",
    "        ax.axis(False)\n",
    "        \n",
    "        if titles is not None:\n",
    "            ax.set_title(titles[i])"
   ]
  },
  {
   "cell_type": "code",
   "execution_count": 6,
   "metadata": {},
   "outputs": [
    {
     "data": {
      "image/png": "[encoded data removed]",
      "text/plain": [
       "<Figure size 1440x144 with 17 Axes>"
      ]
     },
     "metadata": {
      "needs_background": "light"
     },
     "output_type": "display_data"
    }
   ],
   "source": [
    "show_images(mean_tensor[:8], 1, 8, (58, 50), figsize=(20, 2), titles=['mean slice {}'.format(i) for i in range(8)])"
   ]
  },
  {
   "cell_type": "markdown",
   "metadata": {},
   "source": [
    "## Initialising the projection matrices\n",
    "\n",
    "We now need to initialize the projection matrices. We can do this via random initialization for ease (but note there are much better ways to initialize these matrices, such as via *full projection truncation* [1])"
   ]
  },
  {
   "cell_type": "code",
   "execution_count": 7,
   "metadata": {},
   "outputs": [],
   "source": [
    "rank = 8\n",
    "factors = [tl.tensor(np.random.randn(dim, rank)) for i, dim in enumerate(list(X.shape)[1:])]"
   ]
  },
  {
   "cell_type": "markdown",
   "metadata": {},
   "source": [
    "## Computing the partial multilinear projection \n",
    "\n",
    "Similarly to with the notebook on MDA, we need to project each data sample along *all modes but n*. This is due to the fact that the solution for each mode's projection matrix depends on the solutions to the other modes' matrices (For a discussion of this, see Section 5.1 in [3]).\n",
    "\n",
    "We can do this with **TensorLy**'s `tl.tenalg.multi_mode_dot` function, by supplying the `skip=n` argument.\n",
    "\n",
    "Such a projection of datapoint $m$ along all modes but $n$ is computed as\n",
    "\n",
    "$$\n",
    "\\mathcal{Y}^{(n)}_m = \\mathcal{X}_m\n",
    "\\times_1 {\\mathbf{U}^{(1)}}^\\top\n",
    "\\cdots\n",
    "\\times_{n-1} {\\mathbf{U}^{(n-1)}}^\\top\n",
    "\\times_{n+1} {\\mathbf{U}^{(n+1)}}^\\top\n",
    "\\cdots\n",
    "\\times_{N} {\\mathbf{U}^{(N)}}^\\top.\n",
    "$$\n",
    "\n",
    "As a concrete example, let's project the first datapoint $\\mathcal{X}_0$ along all modes but the first (i.e. for $n=0$):"
   ]
  },
  {
   "cell_type": "code",
   "execution_count": 8,
   "metadata": {},
   "outputs": [],
   "source": [
    "proj_but_k = tl.tenalg.multi_mode_dot(X[0], factors, transpose=True, skip=0)"
   ]
  },
  {
   "cell_type": "markdown",
   "metadata": {},
   "source": [
    "## Computing the mode-$n$ total scatter matrix\n",
    "\n",
    "We next need to compute the mode-$n$ **total scatter matrix** for the partial projections of $\\mathcal{X}_m$ along all modes but $n$. The authors in [3] define this as\n",
    "\n",
    "$$\n",
    "\\mathbf{S}^{(n)}_{T_{\\hat{\\mathcal{Y}}}} =\n",
    "    \\sum_{m=1}^{M}\n",
    "        \\left( {\\mathbf{\\hat Y}_m}_{[n]} - {\\mathbf{\\bar {\\hat Y}}}_{[n]} \\right)\n",
    "        \\left( {\\mathbf{\\hat Y}_m}_{[n]} - {\\mathbf{\\bar {\\hat Y}}}_{[n]} \\right)^\\top,\n",
    "$$\n",
    "\n",
    "where $\\bar{\\hat{\\mathbf{Y}}}_{[n]}$ is the mode-$n$ unfolding of the projection of the mean tensor $\\bar{\\mathcal{X}}$ along all modes but $n$. Note that we've already made the data zero-mean. Let's do this in TensorLy:"
   ]
  },
  {
   "cell_type": "code",
   "execution_count": 9,
   "metadata": {},
   "outputs": [],
   "source": [
    "# ---------\n",
    "# Compute the mode-k total scatter matrix\n",
    "# ---------\n",
    "\n",
    "def compute_modek_total_scatter(mode, factors):\n",
    "    scatter = 0\n",
    "    \n",
    "    for m in range(len(X)):\n",
    "        proj_but_k = tl.unfold(tl.tenalg.multi_mode_dot(X[m], factors, transpose=True, skip=mode), mode)\n",
    "        scatter += tl.dot(proj_but_k, proj_but_k.T)\n",
    "        \n",
    "    return scatter\n",
    "\n",
    "scatter = compute_modek_total_scatter(0, factors)"
   ]
  },
  {
   "cell_type": "markdown",
   "metadata": {},
   "source": [
    "## Solving for projection matrix $\\mathbf{U}^{(n)}$\n",
    "\n",
    "Similarly to with multilinear discriminant analysis, we assume we have known the projection matrices $\\mathbf{U}^{(k)}$, for $k=1,\\dots,n-1,n+1,\\dots,N$. We can then solve for projection matrix $\\mathbf{U}^{(n)}$ by setting it equal to the $I_n^*$ many top eigenvectors of the mode-n scatter matrix computed above:"
   ]
  },
  {
   "cell_type": "code",
   "execution_count": 10,
   "metadata": {},
   "outputs": [],
   "source": [
    "# solve for projection matrix for mode k as top `rank` # of eigenvectors\n",
    "U, _, _ = tl.partial_svd(scatter, n_eigenvecs=rank)\n",
    "factors[0] = U"
   ]
  },
  {
   "cell_type": "markdown",
   "metadata": {},
   "source": [
    "# Putting it all together in k-step optimization\n",
    "\n",
    "Let's run this process for a fixed number of iterations, performing the *Alternating Partial Projections* [3]. For each iteration, we loop over the number of modes and solve for each projection matrix $\\mathbf{U}^{(k)}$ individually:"
   ]
  },
  {
   "cell_type": "code",
   "execution_count": 11,
   "metadata": {},
   "outputs": [
    {
     "name": "stdout",
     "output_type": "stream",
     "text": [
      "...done\n"
     ]
    }
   ],
   "source": [
    "total_iters = 5\n",
    "\n",
    "# dimension of desired low-dim subspace (shared across all modes)\n",
    "rank = 16\n",
    "num_modes = len(X.shape) - 1\n",
    "\n",
    "# initialise the factor matrices\n",
    "factors = [tl.tensor(np.random.randn(dim, rank)) for i, dim in enumerate(list(X.shape)[1:])]\n",
    "\n",
    "for t in range(1, total_iters + 1):\n",
    "    for k in range(num_modes):\n",
    "        scatter = compute_modek_total_scatter(k, factors)\n",
    "        \n",
    "        U, _, _ = tl.partial_svd(scatter, n_eigenvecs=rank)\n",
    "        factors[k] = U\n",
    "            \n",
    "print('...done')"
   ]
  },
  {
   "cell_type": "markdown",
   "metadata": {},
   "source": [
    "We can now project each input into the tensor subspace using the learnt projection matrices, and use in downstream tasks, such as classification or for visualization purposes in data exploration:"
   ]
  },
  {
   "cell_type": "code",
   "execution_count": 12,
   "metadata": {},
   "outputs": [
    {
     "name": "stdout",
     "output_type": "stream",
     "text": [
      "shape of each tensor in the low-dimensional tensor subspace: \n",
      " (16, 16, 16)\n"
     ]
    }
   ],
   "source": [
    "Y = []\n",
    "for m in range(len(X)):\n",
    "    Y += [tl.tenalg.multi_mode_dot(X[m], factors, transpose=True)]\n",
    "    \n",
    "Y = tl.stack(Y)\n",
    "\n",
    "print('shape of each tensor in the low-dimensional tensor subspace: \\n {}'.format(Y[0].shape))"
   ]
  }
 ],
 "metadata": {
  "kernelspec": {
   "display_name": "Python 3",
   "language": "python",
   "name": "python3"
  },
  "language_info": {
   "codemirror_mode": {
    "name": "ipython",
    "version": 3
   },
   "file_extension": ".py",
   "mimetype": "text/x-python",
   "name": "python",
   "nbconvert_exporter": "python",
   "pygments_lexer": "ipython3",
   "version": "3.7.3"
  }
 },
 "nbformat": 4,
 "nbformat_minor": 2
}
